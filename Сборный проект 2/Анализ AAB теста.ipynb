{
 "cells": [
  {
   "cell_type": "markdown",
   "id": "c4453bb3",
   "metadata": {
    "toc": true
   },
   "source": [
    "<h1>Содержание<span class=\"tocSkip\"></span></h1>\n",
    "<div class=\"toc\"><ul class=\"toc-item\"><li><span><a href=\"#Этап\" data-toc-modified-id=\"Этап-1\"><span class=\"toc-item-num\">1&nbsp;&nbsp;</span>Этап</a></span></li><li><span><a href=\"#Этап----Подготовка-данных\" data-toc-modified-id=\"Этап----Подготовка-данных-2\"><span class=\"toc-item-num\">2&nbsp;&nbsp;</span>Этап  - Подготовка данных</a></span><ul class=\"toc-item\"><li><span><a href=\"#Меняем-названия-столбцов\" data-toc-modified-id=\"Меняем-названия-столбцов-2.1\"><span class=\"toc-item-num\">2.1&nbsp;&nbsp;</span>Меняем названия столбцов</a></span></li><li><span><a href=\"#Изменение-типа-данных-и-проверка-на-дубликаты\" data-toc-modified-id=\"Изменение-типа-данных-и-проверка-на-дубликаты-2.2\"><span class=\"toc-item-num\">2.2&nbsp;&nbsp;</span>Изменение типа данных и проверка на дубликаты</a></span><ul class=\"toc-item\"><li><span><a href=\"#Изменение-типа-данных\" data-toc-modified-id=\"Изменение-типа-данных-2.2.1\"><span class=\"toc-item-num\">2.2.1&nbsp;&nbsp;</span>Изменение типа данных</a></span></li><li><span><a href=\"#Проверка-на-дубликаты\" data-toc-modified-id=\"Проверка-на-дубликаты-2.2.2\"><span class=\"toc-item-num\">2.2.2&nbsp;&nbsp;</span>Проверка на дубликаты</a></span></li></ul></li><li><span><a href=\"#Проверка-на-пропуски\" data-toc-modified-id=\"Проверка-на-пропуски-2.3\"><span class=\"toc-item-num\">2.3&nbsp;&nbsp;</span>Проверка на пропуски</a></span></li><li><span><a href=\"#Добавление-отдельного-столбца-с-датой\" data-toc-modified-id=\"Добавление-отдельного-столбца-с-датой-2.4\"><span class=\"toc-item-num\">2.4&nbsp;&nbsp;</span>Добавление отдельного столбца с датой</a></span></li></ul></li><li><span><a href=\"#Этап---Изучение-и-проверка-данных\" data-toc-modified-id=\"Этап---Изучение-и-проверка-данных-3\"><span class=\"toc-item-num\">3&nbsp;&nbsp;</span>Этап - Изучение и проверка данных</a></span><ul class=\"toc-item\"><li><span><a href=\"#Анализ-событий\" data-toc-modified-id=\"Анализ-событий-3.1\"><span class=\"toc-item-num\">3.1&nbsp;&nbsp;</span>Анализ событий</a></span></li><li><span><a href=\"#Количество-пользователей\" data-toc-modified-id=\"Количество-пользователей-3.2\"><span class=\"toc-item-num\">3.2&nbsp;&nbsp;</span>Количество пользователей</a></span></li><li><span><a href=\"#Среднее-количество-событий-на-1-го-пользователя\" data-toc-modified-id=\"Среднее-количество-событий-на-1-го-пользователя-3.3\"><span class=\"toc-item-num\">3.3&nbsp;&nbsp;</span>Среднее количество событий на 1-го пользователя</a></span></li><li><span><a href=\"#Временной-анализ-событий\" data-toc-modified-id=\"Временной-анализ-событий-3.4\"><span class=\"toc-item-num\">3.4&nbsp;&nbsp;</span>Временной анализ событий</a></span></li><li><span><a href=\"#Проверка-количества-пользователей-в-каждой-из-групп\" data-toc-modified-id=\"Проверка-количества-пользователей-в-каждой-из-групп-3.5\"><span class=\"toc-item-num\">3.5&nbsp;&nbsp;</span>Проверка количества пользователей в каждой из групп</a></span></li><li><span><a href=\"#Вывод-по-3-шагу:\" data-toc-modified-id=\"Вывод-по-3-шагу:-3.6\"><span class=\"toc-item-num\">3.6&nbsp;&nbsp;</span>Вывод по 3 шагу:</a></span></li></ul></li><li><span><a href=\"#Шаг\" data-toc-modified-id=\"Шаг-4\"><span class=\"toc-item-num\">4&nbsp;&nbsp;</span>Шаг</a></span><ul class=\"toc-item\"><li><span><a href=\"#Анализ-событий-в-логах\" data-toc-modified-id=\"Анализ-событий-в-логах-4.1\"><span class=\"toc-item-num\">4.1&nbsp;&nbsp;</span>Анализ событий в логах</a></span></li><li><span><a href=\"#Количество-пользователей-совершивших-каждое-событие\" data-toc-modified-id=\"Количество-пользователей-совершивших-каждое-событие-4.2\"><span class=\"toc-item-num\">4.2&nbsp;&nbsp;</span>Количество пользователей совершивших каждое событие</a></span></li><li><span><a href=\"#Последовательность-событий\" data-toc-modified-id=\"Последовательность-событий-4.3\"><span class=\"toc-item-num\">4.3&nbsp;&nbsp;</span>Последовательность событий</a></span></li><li><span><a href=\"#Доля-пользователей-на-каждом-шаге\" data-toc-modified-id=\"Доля-пользователей-на-каждом-шаге-4.4\"><span class=\"toc-item-num\">4.4&nbsp;&nbsp;</span>Доля пользователей на каждом шаге</a></span></li><li><span><a href=\"#Вывод-по-4-шагу\" data-toc-modified-id=\"Вывод-по-4-шагу-4.5\"><span class=\"toc-item-num\">4.5&nbsp;&nbsp;</span>Вывод по 4 шагу</a></span></li></ul></li><li><span><a href=\"#Шаг\" data-toc-modified-id=\"Шаг-5\"><span class=\"toc-item-num\">5&nbsp;&nbsp;</span>Шаг</a></span><ul class=\"toc-item\"><li><span><a href=\"#Проверка-разницы-между-контрольными-группами-A/A\" data-toc-modified-id=\"Проверка-разницы-между-контрольными-группами-A/A-5.1\"><span class=\"toc-item-num\">5.1&nbsp;&nbsp;</span>Проверка разницы между контрольными группами A/A</a></span></li><li><span><a href=\"#Сравниваем-по-отдельности-с-группами-A-и-B\" data-toc-modified-id=\"Сравниваем-по-отдельности-с-группами-A-и-B-5.2\"><span class=\"toc-item-num\">5.2&nbsp;&nbsp;</span>Сравниваем по отдельности с группами A и B</a></span></li><li><span><a href=\"#Тест-AA/B\" data-toc-modified-id=\"Тест-AA/B-5.3\"><span class=\"toc-item-num\">5.3&nbsp;&nbsp;</span>Тест AA/B</a></span></li><li><span><a href=\"#Выбор-уровня-статистической-значимости\" data-toc-modified-id=\"Выбор-уровня-статистической-значимости-5.4\"><span class=\"toc-item-num\">5.4&nbsp;&nbsp;</span>Выбор уровня статистической значимости</a></span></li><li><span><a href=\"#Вывод-по-результатам-эксперемента:\" data-toc-modified-id=\"Вывод-по-результатам-эксперемента:-5.5\"><span class=\"toc-item-num\">5.5&nbsp;&nbsp;</span>Вывод по результатам эксперемента:</a></span></li></ul></li><li><span><a href=\"#Вывод-по-проекту\" data-toc-modified-id=\"Вывод-по-проекту-6\"><span class=\"toc-item-num\">6&nbsp;&nbsp;</span>Вывод по проекту</a></span></li></ul></div>"
   ]
  },
  {
   "cell_type": "markdown",
   "id": "1c3314f3",
   "metadata": {},
   "source": [
    "\n",
    "**Описание данных**\n",
    "\n",
    "* EventName — название события;\n",
    "* DeviceIDHash — уникальный идентификатор пользователя;\n",
    "* EventTimestamp — время события;\n",
    "* ExpId — номер эксперимента: 246 и 247 — контрольные группы, а 248 — экспериментальная.\n",
    "\n",
    "**План проекта**\n",
    "* Шаг 1. Загрузка датасетов\n",
    "* Шаг 2. Подготовка данных\n",
    "  * Замена названий столбцов;\n",
    "  * Проверка пропусков и типов данных;\n",
    "  * Добавление столбец даты и времени, а также отдельный столбец дат;\n",
    "* Шаг 3. Изучение и проверка данных\n",
    "  * Сколько всего событий в логе?\n",
    "  * Сколько всего пользователей в логе?\n",
    "  * Сколько в среднем событий приходится на пользователя?\n",
    "  * Проверка временного распредления данных.\n",
    "  * Сколько данных потеряно при очистке?\n",
    "  * Проверка наличия пользователей из всех трёх экспериментальных групп.\n",
    "* Шаг 4. Изучение воронки событий\n",
    "  * Изучение событий в логах\n",
    "  * Посчитать, сколько пользователей совершали каждое из этих событий. Посчитать долю пользователей, которые хоть раз совершали событие.\n",
    "  * Предположить, в каком порядке происходят события.\n",
    "  * По воронке событий посчитать, какая доля пользователей проходит на следующий шаг воронки (от числа пользователей на предыдущем). \n",
    "  * На каком шаге теряется больше всего пользователей?\n",
    "  * Какая доля пользователей доходит от первого события до оплаты?\n",
    "* Шаг 5. Результаты эксперимент\n",
    "  * Сколько пользователей в каждой экспериментальной группе?\n",
    "  * Проверить разницу между 2-мя контрольными гурппами\n",
    "  * Проверить разницу между контрольными и эксперементальной группой\n",
    "  * Сделать выводы по экспериментму"
   ]
  },
  {
   "cell_type": "markdown",
   "id": "540f6b16",
   "metadata": {},
   "source": [
    "## Этап"
   ]
  },
  {
   "cell_type": "code",
   "execution_count": 1,
   "id": "f5049c04",
   "metadata": {},
   "outputs": [],
   "source": [
    "#Импортируем библиотеки для работы\n",
    "import pandas as pd\n",
    "import matplotlib.pyplot as plt\n",
    "import numpy as np\n",
    "import seaborn as sns\n",
    "from scipy import stats as st\n",
    "import datetime as dt\n",
    "import math as mth\n",
    "import plotly.express as px"
   ]
  },
  {
   "cell_type": "code",
   "execution_count": 2,
   "id": "400b3530",
   "metadata": {
    "scrolled": true
   },
   "outputs": [],
   "source": [
    "#считываем датасеты\n",
    "try:\n",
    "    logs = pd.read_csv('logs_exp.csv',sep = '\\s+')\n",
    "except:\n",
    "    logs = pd.read_csv('/datasets/logs_exp.csv',sep = '\\s+') "
   ]
  },
  {
   "cell_type": "code",
   "execution_count": 3,
   "id": "64ecb084",
   "metadata": {},
   "outputs": [],
   "source": [
    "import plotly.io as pio\n",
    "pio.renderers.default = \"svg\""
   ]
  },
  {
   "cell_type": "code",
   "execution_count": 4,
   "id": "ec59e907",
   "metadata": {},
   "outputs": [
    {
     "data": {
      "text/html": [
       "<div>\n",
       "<style scoped>\n",
       "    .dataframe tbody tr th:only-of-type {\n",
       "        vertical-align: middle;\n",
       "    }\n",
       "\n",
       "    .dataframe tbody tr th {\n",
       "        vertical-align: top;\n",
       "    }\n",
       "\n",
       "    .dataframe thead th {\n",
       "        text-align: right;\n",
       "    }\n",
       "</style>\n",
       "<table border=\"1\" class=\"dataframe\">\n",
       "  <thead>\n",
       "    <tr style=\"text-align: right;\">\n",
       "      <th></th>\n",
       "      <th>EventName</th>\n",
       "      <th>DeviceIDHash</th>\n",
       "      <th>EventTimestamp</th>\n",
       "      <th>ExpId</th>\n",
       "    </tr>\n",
       "  </thead>\n",
       "  <tbody>\n",
       "    <tr>\n",
       "      <th>125198</th>\n",
       "      <td>MainScreenAppear</td>\n",
       "      <td>3276615362953257720</td>\n",
       "      <td>1564924023</td>\n",
       "      <td>246</td>\n",
       "    </tr>\n",
       "    <tr>\n",
       "      <th>138819</th>\n",
       "      <td>OffersScreenAppear</td>\n",
       "      <td>5784203384430915788</td>\n",
       "      <td>1564948646</td>\n",
       "      <td>247</td>\n",
       "    </tr>\n",
       "    <tr>\n",
       "      <th>50076</th>\n",
       "      <td>MainScreenAppear</td>\n",
       "      <td>2071063976199331598</td>\n",
       "      <td>1564738345</td>\n",
       "      <td>247</td>\n",
       "    </tr>\n",
       "    <tr>\n",
       "      <th>204055</th>\n",
       "      <td>PaymentScreenSuccessful</td>\n",
       "      <td>5129534242263523164</td>\n",
       "      <td>1565109750</td>\n",
       "      <td>248</td>\n",
       "    </tr>\n",
       "    <tr>\n",
       "      <th>225469</th>\n",
       "      <td>CartScreenAppear</td>\n",
       "      <td>3337471580007169353</td>\n",
       "      <td>1565177192</td>\n",
       "      <td>246</td>\n",
       "    </tr>\n",
       "    <tr>\n",
       "      <th>211850</th>\n",
       "      <td>PaymentScreenSuccessful</td>\n",
       "      <td>8309980273750324949</td>\n",
       "      <td>1565123823</td>\n",
       "      <td>246</td>\n",
       "    </tr>\n",
       "    <tr>\n",
       "      <th>15652</th>\n",
       "      <td>MainScreenAppear</td>\n",
       "      <td>1290489534311228669</td>\n",
       "      <td>1564657862</td>\n",
       "      <td>248</td>\n",
       "    </tr>\n",
       "    <tr>\n",
       "      <th>219338</th>\n",
       "      <td>MainScreenAppear</td>\n",
       "      <td>2819546134272145598</td>\n",
       "      <td>1565164584</td>\n",
       "      <td>247</td>\n",
       "    </tr>\n",
       "    <tr>\n",
       "      <th>101475</th>\n",
       "      <td>MainScreenAppear</td>\n",
       "      <td>2826841367164455095</td>\n",
       "      <td>1564852118</td>\n",
       "      <td>246</td>\n",
       "    </tr>\n",
       "    <tr>\n",
       "      <th>136265</th>\n",
       "      <td>MainScreenAppear</td>\n",
       "      <td>6820216004207280160</td>\n",
       "      <td>1564942506</td>\n",
       "      <td>247</td>\n",
       "    </tr>\n",
       "  </tbody>\n",
       "</table>\n",
       "</div>"
      ],
      "text/plain": [
       "                      EventName         DeviceIDHash  EventTimestamp  ExpId\n",
       "125198         MainScreenAppear  3276615362953257720      1564924023    246\n",
       "138819       OffersScreenAppear  5784203384430915788      1564948646    247\n",
       "50076          MainScreenAppear  2071063976199331598      1564738345    247\n",
       "204055  PaymentScreenSuccessful  5129534242263523164      1565109750    248\n",
       "225469         CartScreenAppear  3337471580007169353      1565177192    246\n",
       "211850  PaymentScreenSuccessful  8309980273750324949      1565123823    246\n",
       "15652          MainScreenAppear  1290489534311228669      1564657862    248\n",
       "219338         MainScreenAppear  2819546134272145598      1565164584    247\n",
       "101475         MainScreenAppear  2826841367164455095      1564852118    246\n",
       "136265         MainScreenAppear  6820216004207280160      1564942506    247"
      ]
     },
     "execution_count": 4,
     "metadata": {},
     "output_type": "execute_result"
    }
   ],
   "source": [
    "logs.sample(10)"
   ]
  },
  {
   "cell_type": "code",
   "execution_count": 5,
   "id": "e2b6937b",
   "metadata": {},
   "outputs": [
    {
     "name": "stdout",
     "output_type": "stream",
     "text": [
      "<class 'pandas.core.frame.DataFrame'>\n",
      "RangeIndex: 244126 entries, 0 to 244125\n",
      "Data columns (total 4 columns):\n",
      " #   Column          Non-Null Count   Dtype \n",
      "---  ------          --------------   ----- \n",
      " 0   EventName       244126 non-null  object\n",
      " 1   DeviceIDHash    244126 non-null  int64 \n",
      " 2   EventTimestamp  244126 non-null  int64 \n",
      " 3   ExpId           244126 non-null  int64 \n",
      "dtypes: int64(3), object(1)\n",
      "memory usage: 7.5+ MB\n"
     ]
    },
    {
     "data": {
      "text/plain": [
       "(244126, 4)"
      ]
     },
     "metadata": {},
     "output_type": "display_data"
    },
    {
     "data": {
      "text/plain": [
       "None"
      ]
     },
     "metadata": {},
     "output_type": "display_data"
    }
   ],
   "source": [
    "display(logs.shape,\n",
    "       logs.info())"
   ]
  },
  {
   "cell_type": "markdown",
   "id": "40f54428",
   "metadata": {},
   "source": [
    "Дата имеет неправильный формат"
   ]
  },
  {
   "cell_type": "markdown",
   "id": "0b662739",
   "metadata": {},
   "source": [
    "## Этап  - Подготовка данных"
   ]
  },
  {
   "cell_type": "markdown",
   "id": "c89f6272",
   "metadata": {},
   "source": [
    "### Меняем названия столбцов"
   ]
  },
  {
   "cell_type": "code",
   "execution_count": 6,
   "id": "5a82e1b7",
   "metadata": {},
   "outputs": [
    {
     "data": {
      "text/html": [
       "<div>\n",
       "<style scoped>\n",
       "    .dataframe tbody tr th:only-of-type {\n",
       "        vertical-align: middle;\n",
       "    }\n",
       "\n",
       "    .dataframe tbody tr th {\n",
       "        vertical-align: top;\n",
       "    }\n",
       "\n",
       "    .dataframe thead th {\n",
       "        text-align: right;\n",
       "    }\n",
       "</style>\n",
       "<table border=\"1\" class=\"dataframe\">\n",
       "  <thead>\n",
       "    <tr style=\"text-align: right;\">\n",
       "      <th></th>\n",
       "      <th>event</th>\n",
       "      <th>user_id</th>\n",
       "      <th>date</th>\n",
       "      <th>group_id</th>\n",
       "    </tr>\n",
       "  </thead>\n",
       "  <tbody>\n",
       "    <tr>\n",
       "      <th>0</th>\n",
       "      <td>MainScreenAppear</td>\n",
       "      <td>4575588528974610257</td>\n",
       "      <td>1564029816</td>\n",
       "      <td>246</td>\n",
       "    </tr>\n",
       "    <tr>\n",
       "      <th>1</th>\n",
       "      <td>MainScreenAppear</td>\n",
       "      <td>7416695313311560658</td>\n",
       "      <td>1564053102</td>\n",
       "      <td>246</td>\n",
       "    </tr>\n",
       "    <tr>\n",
       "      <th>2</th>\n",
       "      <td>PaymentScreenSuccessful</td>\n",
       "      <td>3518123091307005509</td>\n",
       "      <td>1564054127</td>\n",
       "      <td>248</td>\n",
       "    </tr>\n",
       "    <tr>\n",
       "      <th>3</th>\n",
       "      <td>CartScreenAppear</td>\n",
       "      <td>3518123091307005509</td>\n",
       "      <td>1564054127</td>\n",
       "      <td>248</td>\n",
       "    </tr>\n",
       "    <tr>\n",
       "      <th>4</th>\n",
       "      <td>PaymentScreenSuccessful</td>\n",
       "      <td>6217807653094995999</td>\n",
       "      <td>1564055322</td>\n",
       "      <td>248</td>\n",
       "    </tr>\n",
       "  </tbody>\n",
       "</table>\n",
       "</div>"
      ],
      "text/plain": [
       "                     event              user_id        date  group_id\n",
       "0         MainScreenAppear  4575588528974610257  1564029816       246\n",
       "1         MainScreenAppear  7416695313311560658  1564053102       246\n",
       "2  PaymentScreenSuccessful  3518123091307005509  1564054127       248\n",
       "3         CartScreenAppear  3518123091307005509  1564054127       248\n",
       "4  PaymentScreenSuccessful  6217807653094995999  1564055322       248"
      ]
     },
     "metadata": {},
     "output_type": "display_data"
    },
    {
     "data": {
      "text/plain": [
       "(244126, 4)"
      ]
     },
     "metadata": {},
     "output_type": "display_data"
    }
   ],
   "source": [
    "logs.columns = ['event','user_id','date','group_id']\n",
    "\n",
    "display(logs.head(),\n",
    "        logs.shape)"
   ]
  },
  {
   "cell_type": "markdown",
   "id": "79528d86",
   "metadata": {},
   "source": [
    "### Изменение типа данных и проверка на дубликаты"
   ]
  },
  {
   "cell_type": "markdown",
   "id": "d748e1e1",
   "metadata": {},
   "source": [
    "#### Изменение типа данных"
   ]
  },
  {
   "cell_type": "code",
   "execution_count": 7,
   "id": "4df7f4c3",
   "metadata": {},
   "outputs": [
    {
     "name": "stdout",
     "output_type": "stream",
     "text": [
      "<class 'pandas.core.frame.DataFrame'>\n",
      "RangeIndex: 244126 entries, 0 to 244125\n",
      "Data columns (total 4 columns):\n",
      " #   Column    Non-Null Count   Dtype \n",
      "---  ------    --------------   ----- \n",
      " 0   event     244126 non-null  object\n",
      " 1   user_id   244126 non-null  int64 \n",
      " 2   date      244126 non-null  int64 \n",
      " 3   group_id  244126 non-null  int64 \n",
      "dtypes: int64(3), object(1)\n",
      "memory usage: 7.5+ MB\n"
     ]
    }
   ],
   "source": [
    "logs.info()"
   ]
  },
  {
   "cell_type": "markdown",
   "id": "fe3b0bd4",
   "metadata": {},
   "source": [
    "Столбец с датой имеет формат Unix timestamp изменим его чтобы выводилось не количестов секунд, а дата и время "
   ]
  },
  {
   "cell_type": "code",
   "execution_count": 8,
   "id": "c6085fc7",
   "metadata": {},
   "outputs": [],
   "source": [
    "logs['date'] = pd.to_datetime(logs['date'],unit='s')"
   ]
  },
  {
   "cell_type": "code",
   "execution_count": 9,
   "id": "a09d75c7",
   "metadata": {},
   "outputs": [
    {
     "name": "stdout",
     "output_type": "stream",
     "text": [
      "<class 'pandas.core.frame.DataFrame'>\n",
      "RangeIndex: 244126 entries, 0 to 244125\n",
      "Data columns (total 4 columns):\n",
      " #   Column    Non-Null Count   Dtype         \n",
      "---  ------    --------------   -----         \n",
      " 0   event     244126 non-null  object        \n",
      " 1   user_id   244126 non-null  int64         \n",
      " 2   date      244126 non-null  datetime64[ns]\n",
      " 3   group_id  244126 non-null  int64         \n",
      "dtypes: datetime64[ns](1), int64(2), object(1)\n",
      "memory usage: 7.5+ MB\n"
     ]
    }
   ],
   "source": [
    "logs.info()"
   ]
  },
  {
   "cell_type": "markdown",
   "id": "abf3c449",
   "metadata": {},
   "source": [
    "Столбец с датой изменён"
   ]
  },
  {
   "cell_type": "markdown",
   "id": "b4724dd0",
   "metadata": {},
   "source": [
    "#### Проверка на дубликаты"
   ]
  },
  {
   "cell_type": "code",
   "execution_count": 10,
   "id": "038f9b21",
   "metadata": {},
   "outputs": [
    {
     "data": {
      "text/plain": [
       "413"
      ]
     },
     "execution_count": 10,
     "metadata": {},
     "output_type": "execute_result"
    }
   ],
   "source": [
    "logs.duplicated().sum()"
   ]
  },
  {
   "cell_type": "markdown",
   "id": "61593b39",
   "metadata": {},
   "source": [
    "Всего 413 полных дубликатов их будем удалять тк одно и тоже действие в одну и туже секунду у одного и того же пользователя произойти сразу не могло + количество дубликатов мало в соотношение со всем объёмом данных"
   ]
  },
  {
   "cell_type": "code",
   "execution_count": 11,
   "id": "68be39c9",
   "metadata": {},
   "outputs": [
    {
     "data": {
      "text/plain": [
       "0"
      ]
     },
     "execution_count": 11,
     "metadata": {},
     "output_type": "execute_result"
    }
   ],
   "source": [
    "logs = logs.drop_duplicates()\n",
    "logs.duplicated().sum()"
   ]
  },
  {
   "cell_type": "markdown",
   "id": "133c0730",
   "metadata": {},
   "source": [
    "### Проверка на пропуски"
   ]
  },
  {
   "cell_type": "code",
   "execution_count": 12,
   "id": "5131984e",
   "metadata": {},
   "outputs": [
    {
     "data": {
      "text/plain": [
       "event       0\n",
       "user_id     0\n",
       "date        0\n",
       "group_id    0\n",
       "dtype: int64"
      ]
     },
     "execution_count": 12,
     "metadata": {},
     "output_type": "execute_result"
    }
   ],
   "source": [
    "logs.isnull().sum()"
   ]
  },
  {
   "cell_type": "markdown",
   "id": "9ec12da7",
   "metadata": {},
   "source": [
    "### Добавление отдельного столбца с датой"
   ]
  },
  {
   "cell_type": "markdown",
   "id": "c9dc9dea",
   "metadata": {},
   "source": [
    "Переименуем один исходный столбец чтобы разделять где столбец с датой и временем а где столбец только с датой"
   ]
  },
  {
   "cell_type": "code",
   "execution_count": 13,
   "id": "6f4bb380",
   "metadata": {},
   "outputs": [
    {
     "data": {
      "text/html": [
       "<div>\n",
       "<style scoped>\n",
       "    .dataframe tbody tr th:only-of-type {\n",
       "        vertical-align: middle;\n",
       "    }\n",
       "\n",
       "    .dataframe tbody tr th {\n",
       "        vertical-align: top;\n",
       "    }\n",
       "\n",
       "    .dataframe thead th {\n",
       "        text-align: right;\n",
       "    }\n",
       "</style>\n",
       "<table border=\"1\" class=\"dataframe\">\n",
       "  <thead>\n",
       "    <tr style=\"text-align: right;\">\n",
       "      <th></th>\n",
       "      <th>event</th>\n",
       "      <th>user_id</th>\n",
       "      <th>dt</th>\n",
       "      <th>group_id</th>\n",
       "    </tr>\n",
       "  </thead>\n",
       "  <tbody>\n",
       "    <tr>\n",
       "      <th>0</th>\n",
       "      <td>MainScreenAppear</td>\n",
       "      <td>4575588528974610257</td>\n",
       "      <td>2019-07-25 04:43:36</td>\n",
       "      <td>246</td>\n",
       "    </tr>\n",
       "    <tr>\n",
       "      <th>1</th>\n",
       "      <td>MainScreenAppear</td>\n",
       "      <td>7416695313311560658</td>\n",
       "      <td>2019-07-25 11:11:42</td>\n",
       "      <td>246</td>\n",
       "    </tr>\n",
       "    <tr>\n",
       "      <th>2</th>\n",
       "      <td>PaymentScreenSuccessful</td>\n",
       "      <td>3518123091307005509</td>\n",
       "      <td>2019-07-25 11:28:47</td>\n",
       "      <td>248</td>\n",
       "    </tr>\n",
       "    <tr>\n",
       "      <th>3</th>\n",
       "      <td>CartScreenAppear</td>\n",
       "      <td>3518123091307005509</td>\n",
       "      <td>2019-07-25 11:28:47</td>\n",
       "      <td>248</td>\n",
       "    </tr>\n",
       "    <tr>\n",
       "      <th>4</th>\n",
       "      <td>PaymentScreenSuccessful</td>\n",
       "      <td>6217807653094995999</td>\n",
       "      <td>2019-07-25 11:48:42</td>\n",
       "      <td>248</td>\n",
       "    </tr>\n",
       "  </tbody>\n",
       "</table>\n",
       "</div>"
      ],
      "text/plain": [
       "                     event              user_id                  dt  group_id\n",
       "0         MainScreenAppear  4575588528974610257 2019-07-25 04:43:36       246\n",
       "1         MainScreenAppear  7416695313311560658 2019-07-25 11:11:42       246\n",
       "2  PaymentScreenSuccessful  3518123091307005509 2019-07-25 11:28:47       248\n",
       "3         CartScreenAppear  3518123091307005509 2019-07-25 11:28:47       248\n",
       "4  PaymentScreenSuccessful  6217807653094995999 2019-07-25 11:48:42       248"
      ]
     },
     "execution_count": 13,
     "metadata": {},
     "output_type": "execute_result"
    }
   ],
   "source": [
    "logs.rename(columns = {'date':'dt'},inplace=True)\n",
    "logs.head()"
   ]
  },
  {
   "cell_type": "code",
   "execution_count": 14,
   "id": "ebd12176",
   "metadata": {
    "scrolled": true
   },
   "outputs": [],
   "source": [
    "# добавляем столбец только с датой\n",
    "logs['date'] = pd.to_datetime(logs['dt'].dt.date)"
   ]
  },
  {
   "cell_type": "markdown",
   "id": "def3de63",
   "metadata": {},
   "source": [
    "Изменим порядок столбцов чтобы было проще воспринимать таблицу"
   ]
  },
  {
   "cell_type": "code",
   "execution_count": 15,
   "id": "0d012077",
   "metadata": {},
   "outputs": [
    {
     "name": "stdout",
     "output_type": "stream",
     "text": [
      "<class 'pandas.core.frame.DataFrame'>\n",
      "Int64Index: 243713 entries, 0 to 244125\n",
      "Data columns (total 5 columns):\n",
      " #   Column    Non-Null Count   Dtype         \n",
      "---  ------    --------------   -----         \n",
      " 0   user_id   243713 non-null  int64         \n",
      " 1   event     243713 non-null  object        \n",
      " 2   group_id  243713 non-null  int64         \n",
      " 3   dt        243713 non-null  datetime64[ns]\n",
      " 4   date      243713 non-null  datetime64[ns]\n",
      "dtypes: datetime64[ns](2), int64(2), object(1)\n",
      "memory usage: 11.2+ MB\n"
     ]
    },
    {
     "data": {
      "text/html": [
       "<div>\n",
       "<style scoped>\n",
       "    .dataframe tbody tr th:only-of-type {\n",
       "        vertical-align: middle;\n",
       "    }\n",
       "\n",
       "    .dataframe tbody tr th {\n",
       "        vertical-align: top;\n",
       "    }\n",
       "\n",
       "    .dataframe thead th {\n",
       "        text-align: right;\n",
       "    }\n",
       "</style>\n",
       "<table border=\"1\" class=\"dataframe\">\n",
       "  <thead>\n",
       "    <tr style=\"text-align: right;\">\n",
       "      <th></th>\n",
       "      <th>user_id</th>\n",
       "      <th>event</th>\n",
       "      <th>group_id</th>\n",
       "      <th>dt</th>\n",
       "      <th>date</th>\n",
       "    </tr>\n",
       "  </thead>\n",
       "  <tbody>\n",
       "    <tr>\n",
       "      <th>0</th>\n",
       "      <td>4575588528974610257</td>\n",
       "      <td>MainScreenAppear</td>\n",
       "      <td>246</td>\n",
       "      <td>2019-07-25 04:43:36</td>\n",
       "      <td>2019-07-25</td>\n",
       "    </tr>\n",
       "    <tr>\n",
       "      <th>1</th>\n",
       "      <td>7416695313311560658</td>\n",
       "      <td>MainScreenAppear</td>\n",
       "      <td>246</td>\n",
       "      <td>2019-07-25 11:11:42</td>\n",
       "      <td>2019-07-25</td>\n",
       "    </tr>\n",
       "    <tr>\n",
       "      <th>2</th>\n",
       "      <td>3518123091307005509</td>\n",
       "      <td>PaymentScreenSuccessful</td>\n",
       "      <td>248</td>\n",
       "      <td>2019-07-25 11:28:47</td>\n",
       "      <td>2019-07-25</td>\n",
       "    </tr>\n",
       "    <tr>\n",
       "      <th>3</th>\n",
       "      <td>3518123091307005509</td>\n",
       "      <td>CartScreenAppear</td>\n",
       "      <td>248</td>\n",
       "      <td>2019-07-25 11:28:47</td>\n",
       "      <td>2019-07-25</td>\n",
       "    </tr>\n",
       "    <tr>\n",
       "      <th>4</th>\n",
       "      <td>6217807653094995999</td>\n",
       "      <td>PaymentScreenSuccessful</td>\n",
       "      <td>248</td>\n",
       "      <td>2019-07-25 11:48:42</td>\n",
       "      <td>2019-07-25</td>\n",
       "    </tr>\n",
       "  </tbody>\n",
       "</table>\n",
       "</div>"
      ],
      "text/plain": [
       "               user_id                    event  group_id                  dt  \\\n",
       "0  4575588528974610257         MainScreenAppear       246 2019-07-25 04:43:36   \n",
       "1  7416695313311560658         MainScreenAppear       246 2019-07-25 11:11:42   \n",
       "2  3518123091307005509  PaymentScreenSuccessful       248 2019-07-25 11:28:47   \n",
       "3  3518123091307005509         CartScreenAppear       248 2019-07-25 11:28:47   \n",
       "4  6217807653094995999  PaymentScreenSuccessful       248 2019-07-25 11:48:42   \n",
       "\n",
       "        date  \n",
       "0 2019-07-25  \n",
       "1 2019-07-25  \n",
       "2 2019-07-25  \n",
       "3 2019-07-25  \n",
       "4 2019-07-25  "
      ]
     },
     "metadata": {},
     "output_type": "display_data"
    },
    {
     "data": {
      "text/plain": [
       "None"
      ]
     },
     "metadata": {},
     "output_type": "display_data"
    }
   ],
   "source": [
    "logs = logs.reindex(columns=['user_id','event','group_id',\n",
    "                            'dt','date' ])\n",
    "display(logs.head(),\n",
    "       logs.info())"
   ]
  },
  {
   "cell_type": "markdown",
   "id": "86a31eda",
   "metadata": {},
   "source": [
    "**Итог по шагу**\n",
    "* Изменены названия столбцов\n",
    "* Изменён столбец с датой на стандартный (до этого расчёт был в секундах)\n",
    "* Удалены дубликаты"
   ]
  },
  {
   "cell_type": "markdown",
   "id": "fee23053",
   "metadata": {},
   "source": [
    "## Этап - Изучение и проверка данных"
   ]
  },
  {
   "cell_type": "markdown",
   "id": "5e063a64",
   "metadata": {},
   "source": [
    "### Анализ событий"
   ]
  },
  {
   "cell_type": "markdown",
   "id": "89d8a9ce",
   "metadata": {},
   "source": [
    "Сначала нужно разобраться какие у нам события происходят:"
   ]
  },
  {
   "cell_type": "code",
   "execution_count": 16,
   "id": "85605e32",
   "metadata": {},
   "outputs": [
    {
     "data": {
      "text/plain": [
       "array(['MainScreenAppear', 'PaymentScreenSuccessful', 'CartScreenAppear',\n",
       "       'OffersScreenAppear', 'Tutorial'], dtype=object)"
      ]
     },
     "execution_count": 16,
     "metadata": {},
     "output_type": "execute_result"
    }
   ],
   "source": [
    "logs['event'].unique()"
   ]
  },
  {
   "cell_type": "markdown",
   "id": "bc12f517",
   "metadata": {},
   "source": [
    "Предположительный порядок событий"
   ]
  },
  {
   "cell_type": "markdown",
   "id": "47876f83",
   "metadata": {},
   "source": [
    "* «Обучение» - Tutorial P.S скорее всего появлеется только в первый раз\n",
    "* «Появление главного экрана» - MainScreenAppear\n",
    "* «Появление экрана предложений» - OffersScreenAppear\n",
    "* «Появление экрана корзины» - CartScreenAppear\n",
    "* «Экран оплаты выполнен успешно» - PaymentScreenSuccessful\n",
    "\n",
    "\n"
   ]
  },
  {
   "cell_type": "markdown",
   "id": "69b72e5c",
   "metadata": {},
   "source": [
    "### Количество пользователей"
   ]
  },
  {
   "cell_type": "code",
   "execution_count": 17,
   "id": "9e7311f1",
   "metadata": {},
   "outputs": [
    {
     "data": {
      "text/plain": [
       "7551"
      ]
     },
     "execution_count": 17,
     "metadata": {},
     "output_type": "execute_result"
    }
   ],
   "source": [
    "#смотрим сколько всего пользователей\n",
    "logs['user_id'].nunique()"
   ]
  },
  {
   "cell_type": "markdown",
   "id": "6569e012",
   "metadata": {},
   "source": [
    "### Среднее количество событий на 1-го пользователя"
   ]
  },
  {
   "cell_type": "code",
   "execution_count": 18,
   "id": "d2298355",
   "metadata": {},
   "outputs": [
    {
     "data": {
      "text/html": [
       "<div>\n",
       "<style scoped>\n",
       "    .dataframe tbody tr th:only-of-type {\n",
       "        vertical-align: middle;\n",
       "    }\n",
       "\n",
       "    .dataframe tbody tr th {\n",
       "        vertical-align: top;\n",
       "    }\n",
       "\n",
       "    .dataframe thead th {\n",
       "        text-align: right;\n",
       "    }\n",
       "</style>\n",
       "<table border=\"1\" class=\"dataframe\">\n",
       "  <thead>\n",
       "    <tr style=\"text-align: right;\">\n",
       "      <th></th>\n",
       "      <th>user_id</th>\n",
       "      <th>event</th>\n",
       "    </tr>\n",
       "  </thead>\n",
       "  <tbody>\n",
       "    <tr>\n",
       "      <th>0</th>\n",
       "      <td>6888746892508752</td>\n",
       "      <td>1</td>\n",
       "    </tr>\n",
       "    <tr>\n",
       "      <th>1</th>\n",
       "      <td>6909561520679493</td>\n",
       "      <td>5</td>\n",
       "    </tr>\n",
       "    <tr>\n",
       "      <th>2</th>\n",
       "      <td>6922444491712477</td>\n",
       "      <td>47</td>\n",
       "    </tr>\n",
       "    <tr>\n",
       "      <th>3</th>\n",
       "      <td>7435777799948366</td>\n",
       "      <td>6</td>\n",
       "    </tr>\n",
       "    <tr>\n",
       "      <th>4</th>\n",
       "      <td>7702139951469979</td>\n",
       "      <td>137</td>\n",
       "    </tr>\n",
       "  </tbody>\n",
       "</table>\n",
       "</div>"
      ],
      "text/plain": [
       "            user_id  event\n",
       "0  6888746892508752      1\n",
       "1  6909561520679493      5\n",
       "2  6922444491712477     47\n",
       "3  7435777799948366      6\n",
       "4  7702139951469979    137"
      ]
     },
     "metadata": {},
     "output_type": "display_data"
    },
    {
     "data": {
      "text/plain": [
       "count    7551.000000\n",
       "mean       32.275593\n",
       "std        65.154219\n",
       "min         1.000000\n",
       "25%         9.000000\n",
       "50%        20.000000\n",
       "75%        37.000000\n",
       "max      2307.000000\n",
       "Name: event, dtype: float64"
      ]
     },
     "metadata": {},
     "output_type": "display_data"
    },
    {
     "data": {
      "text/plain": [
       "32.28"
      ]
     },
     "metadata": {},
     "output_type": "display_data"
    }
   ],
   "source": [
    "#посчитаем сколько событий приходится в среднем на одного пользователя\n",
    "# группируем датасет по пользователям и считаем сколько событий приходится на одного пользователя\n",
    "events_mean_user = logs.groupby('user_id').agg({'event':'count'}).reset_index() #сбрасываем индексы для того чтобы \n",
    "                                                #id пользователей были в отдельном столбце\n",
    "\n",
    "display( events_mean_user.head(),\n",
    "        events_mean_user['event'].describe(),\n",
    "        round(events_mean_user['event'].sum()/events_mean_user['user_id'].count(),2)\n",
    ")"
   ]
  },
  {
   "cell_type": "markdown",
   "id": "f20f62db",
   "metadata": {},
   "source": [
    "* В среднем на одного пользователя приходится 32 события\n",
    "* Максимальное количество событий, которое совершил 1 пользователь - 2307\n",
    "* Медианное количество событий на одного пользователя - 20"
   ]
  },
  {
   "cell_type": "markdown",
   "id": "ca1f7c1d",
   "metadata": {},
   "source": [
    "### Временной анализ событий"
   ]
  },
  {
   "cell_type": "code",
   "execution_count": 19,
   "id": "eb0be1d2",
   "metadata": {},
   "outputs": [
    {
     "data": {
      "text/plain": [
       "'минимальная дата 2019-07-25'"
      ]
     },
     "metadata": {},
     "output_type": "display_data"
    },
    {
     "data": {
      "text/plain": [
       "'максимальная дата 2019-08-07'"
      ]
     },
     "metadata": {},
     "output_type": "display_data"
    },
    {
     "data": {
      "text/plain": [
       "'месяцы в датафрейме [7 8]'"
      ]
     },
     "metadata": {},
     "output_type": "display_data"
    },
    {
     "data": {
      "text/plain": [
       "'дни в датафрейме [ 1  2  3  4  5  6  7 25 26 27 28 29 30 31]'"
      ]
     },
     "metadata": {},
     "output_type": "display_data"
    }
   ],
   "source": [
    "display(f'минимальная дата {logs[\"date\"].dt.date.min()}' ,\n",
    "       f'максимальная дата {logs[\"date\"].dt.date.max()}' ,\n",
    "        f'месяцы в датафрейме {logs[\"date\"].dt.month.sort_values().unique()}',\n",
    "       f'дни в датафрейме {logs[\"date\"].dt.day.sort_values().unique()}' )"
   ]
  },
  {
   "cell_type": "markdown",
   "id": "3df931aa",
   "metadata": {},
   "source": [
    "У нас данные за +- 2 недели"
   ]
  },
  {
   "cell_type": "code",
   "execution_count": 20,
   "id": "67a45b18",
   "metadata": {
    "scrolled": false
   },
   "outputs": [
    {
     "data": {
      "image/png": "[encoded data removed]",
      "text/plain": [
       "<Figure size 1500x800 with 1 Axes>"
      ]
     },
     "metadata": {},
     "output_type": "display_data"
    }
   ],
   "source": [
    "plt.figure(figsize = (15,8))\n",
    "plt.hist(logs['dt'],bins = 14)\n",
    "plt.show()"
   ]
  },
  {
   "cell_type": "markdown",
   "id": "5426655d",
   "metadata": {},
   "source": [
    "Количество данных имеет резкий рост 1 августа, следовательно данные начали \"доезжать\" 1 августа. С этого дня данные можно считать полными"
   ]
  },
  {
   "cell_type": "markdown",
   "id": "bd7e5a59",
   "metadata": {},
   "source": [
    "Посмотрим как распределено количество событий по дням"
   ]
  },
  {
   "cell_type": "code",
   "execution_count": 21,
   "id": "6d39cda5",
   "metadata": {},
   "outputs": [
    {
     "data": {
      "text/html": [
       "<div>\n",
       "<style scoped>\n",
       "    .dataframe tbody tr th:only-of-type {\n",
       "        vertical-align: middle;\n",
       "    }\n",
       "\n",
       "    .dataframe tbody tr th {\n",
       "        vertical-align: top;\n",
       "    }\n",
       "\n",
       "    .dataframe thead th {\n",
       "        text-align: right;\n",
       "    }\n",
       "</style>\n",
       "<table border=\"1\" class=\"dataframe\">\n",
       "  <thead>\n",
       "    <tr style=\"text-align: right;\">\n",
       "      <th></th>\n",
       "      <th>date</th>\n",
       "      <th>event</th>\n",
       "    </tr>\n",
       "  </thead>\n",
       "  <tbody>\n",
       "    <tr>\n",
       "      <th>13</th>\n",
       "      <td>2019-08-07</td>\n",
       "      <td>31096</td>\n",
       "    </tr>\n",
       "    <tr>\n",
       "      <th>12</th>\n",
       "      <td>2019-08-06</td>\n",
       "      <td>35788</td>\n",
       "    </tr>\n",
       "    <tr>\n",
       "      <th>11</th>\n",
       "      <td>2019-08-05</td>\n",
       "      <td>36058</td>\n",
       "    </tr>\n",
       "    <tr>\n",
       "      <th>10</th>\n",
       "      <td>2019-08-04</td>\n",
       "      <td>32968</td>\n",
       "    </tr>\n",
       "    <tr>\n",
       "      <th>9</th>\n",
       "      <td>2019-08-03</td>\n",
       "      <td>33282</td>\n",
       "    </tr>\n",
       "    <tr>\n",
       "      <th>8</th>\n",
       "      <td>2019-08-02</td>\n",
       "      <td>35554</td>\n",
       "    </tr>\n",
       "    <tr>\n",
       "      <th>7</th>\n",
       "      <td>2019-08-01</td>\n",
       "      <td>36141</td>\n",
       "    </tr>\n",
       "    <tr>\n",
       "      <th>6</th>\n",
       "      <td>2019-07-31</td>\n",
       "      <td>2030</td>\n",
       "    </tr>\n",
       "    <tr>\n",
       "      <th>5</th>\n",
       "      <td>2019-07-30</td>\n",
       "      <td>412</td>\n",
       "    </tr>\n",
       "    <tr>\n",
       "      <th>4</th>\n",
       "      <td>2019-07-29</td>\n",
       "      <td>184</td>\n",
       "    </tr>\n",
       "    <tr>\n",
       "      <th>3</th>\n",
       "      <td>2019-07-28</td>\n",
       "      <td>105</td>\n",
       "    </tr>\n",
       "    <tr>\n",
       "      <th>2</th>\n",
       "      <td>2019-07-27</td>\n",
       "      <td>55</td>\n",
       "    </tr>\n",
       "    <tr>\n",
       "      <th>1</th>\n",
       "      <td>2019-07-26</td>\n",
       "      <td>31</td>\n",
       "    </tr>\n",
       "    <tr>\n",
       "      <th>0</th>\n",
       "      <td>2019-07-25</td>\n",
       "      <td>9</td>\n",
       "    </tr>\n",
       "  </tbody>\n",
       "</table>\n",
       "</div>"
      ],
      "text/plain": [
       "         date  event\n",
       "13 2019-08-07  31096\n",
       "12 2019-08-06  35788\n",
       "11 2019-08-05  36058\n",
       "10 2019-08-04  32968\n",
       "9  2019-08-03  33282\n",
       "8  2019-08-02  35554\n",
       "7  2019-08-01  36141\n",
       "6  2019-07-31   2030\n",
       "5  2019-07-30    412\n",
       "4  2019-07-29    184\n",
       "3  2019-07-28    105\n",
       "2  2019-07-27     55\n",
       "1  2019-07-26     31\n",
       "0  2019-07-25      9"
      ]
     },
     "execution_count": 21,
     "metadata": {},
     "output_type": "execute_result"
    }
   ],
   "source": [
    "logs_data = logs.groupby('date').agg({'event':'count'}).reset_index().sort_values('date',ascending=False)\n",
    "logs_data"
   ]
  },
  {
   "cell_type": "markdown",
   "id": "86870e58",
   "metadata": {},
   "source": [
    "Будем удалять данные до 1 августа 2019 года, тк именно с 1 августа данные можно считать полными. Получается всего мы имеем данные за одну неделю."
   ]
  },
  {
   "cell_type": "markdown",
   "id": "e9788d9f",
   "metadata": {},
   "source": [
    "Посчитаем какой процент данных мы потеряем при удаление данных до  1 августа"
   ]
  },
  {
   "cell_type": "code",
   "execution_count": 22,
   "id": "163fb9c6",
   "metadata": {
    "scrolled": true
   },
   "outputs": [
    {
     "name": "stdout",
     "output_type": "stream",
     "text": [
      "Всего данных: 243713\n",
      "Данных до 2019-08-01: 2826\n",
      "процент удаляемых данных до 2019-08-01 от общего количества данных: 1.16%\n"
     ]
    }
   ],
   "source": [
    "print(f'Всего данных: {logs_data[\"event\"].sum()}')\n",
    "\n",
    "print(f'Данных до 2019-08-01: {logs_data[logs_data[\"date\"]<\"2019-08-01\"][\"event\"].sum()}')\n",
    "\n",
    "print('процент удаляемых данных до 2019-08-01 от общего количества данных: {}%'\\\n",
    "      .format(round((logs_data[logs_data[\"date\"]<\"2019-08-01\"][\"event\"].sum())/(logs_data[\"event\"].sum())*100,2)))"
   ]
  },
  {
   "cell_type": "code",
   "execution_count": 23,
   "id": "a780c44a",
   "metadata": {
    "scrolled": false
   },
   "outputs": [
    {
     "name": "stdout",
     "output_type": "stream",
     "text": [
      "Всего пользователей: 7551\n",
      "Пользователей после 2019-08-01: 7534\n",
      "Процент удаляемых пользователей до 2019-08-01 от общего количества данных: 0.23%\n"
     ]
    }
   ],
   "source": [
    "print(f'Всего пользователей: {logs[\"user_id\"].nunique()}')\n",
    "\n",
    "print(f'Пользователей после 2019-08-01: {logs[logs[\"date\"]>=\"2019-08-01\"][\"user_id\"].nunique()}')\n",
    "\n",
    "print('Процент удаляемых пользователей до 2019-08-01 от общего количества данных: {}%'\\\n",
    "      .format(round(((logs[\"user_id\"].nunique()-logs[logs[\"date\"]>=\"2019-08-01\"][\"user_id\"].nunique())\\\n",
    "                     /(logs[\"user_id\"].nunique())*100),2)))"
   ]
  },
  {
   "cell_type": "markdown",
   "id": "81742fa3",
   "metadata": {},
   "source": [
    "* Если удалим потеряем чуть больше 1% данных - это в пределах нормы (до 5%), так что можно удалять данные спокойно\n",
    "* Процент удаляемых пользователей 0,23%"
   ]
  },
  {
   "cell_type": "code",
   "execution_count": 24,
   "id": "85a22fa7",
   "metadata": {},
   "outputs": [
    {
     "name": "stdout",
     "output_type": "stream",
     "text": [
      "[datetime.date(2019, 8, 1) datetime.date(2019, 8, 2)\n",
      " datetime.date(2019, 8, 3) datetime.date(2019, 8, 4)\n",
      " datetime.date(2019, 8, 5) datetime.date(2019, 8, 6)\n",
      " datetime.date(2019, 8, 7)]\n"
     ]
    }
   ],
   "source": [
    "# удаляем данный за тот период где их мало\n",
    "logs = logs[logs['date']>='2019-08-01']\n",
    "print(logs['date'].dt.date.unique())"
   ]
  },
  {
   "cell_type": "markdown",
   "id": "bc1bcaec",
   "metadata": {},
   "source": [
    "### Проверка количества пользователей в каждой из групп"
   ]
  },
  {
   "cell_type": "markdown",
   "id": "06b4b2fb",
   "metadata": {},
   "source": [
    "Проверим сколько пользователей у нас в каждой из групп"
   ]
  },
  {
   "cell_type": "code",
   "execution_count": 25,
   "id": "cf0fb754",
   "metadata": {},
   "outputs": [
    {
     "data": {
      "text/html": [
       "<div>\n",
       "<style scoped>\n",
       "    .dataframe tbody tr th:only-of-type {\n",
       "        vertical-align: middle;\n",
       "    }\n",
       "\n",
       "    .dataframe tbody tr th {\n",
       "        vertical-align: top;\n",
       "    }\n",
       "\n",
       "    .dataframe thead th {\n",
       "        text-align: right;\n",
       "    }\n",
       "</style>\n",
       "<table border=\"1\" class=\"dataframe\">\n",
       "  <thead>\n",
       "    <tr style=\"text-align: right;\">\n",
       "      <th></th>\n",
       "      <th>user_id</th>\n",
       "    </tr>\n",
       "    <tr>\n",
       "      <th>group_id</th>\n",
       "      <th></th>\n",
       "    </tr>\n",
       "  </thead>\n",
       "  <tbody>\n",
       "    <tr>\n",
       "      <th>246</th>\n",
       "      <td>2484</td>\n",
       "    </tr>\n",
       "    <tr>\n",
       "      <th>247</th>\n",
       "      <td>2513</td>\n",
       "    </tr>\n",
       "    <tr>\n",
       "      <th>248</th>\n",
       "      <td>2537</td>\n",
       "    </tr>\n",
       "  </tbody>\n",
       "</table>\n",
       "</div>"
      ],
      "text/plain": [
       "          user_id\n",
       "group_id         \n",
       "246          2484\n",
       "247          2513\n",
       "248          2537"
      ]
     },
     "execution_count": 25,
     "metadata": {},
     "output_type": "execute_result"
    }
   ],
   "source": [
    "logs.groupby('group_id').agg({'user_id':'nunique'})"
   ]
  },
  {
   "cell_type": "markdown",
   "id": "97c9781f",
   "metadata": {},
   "source": [
    "Во всех группах примерно одинаковое количество пользователей, стоит также проверить не попал ли один и тот же пользователь  в разные группы"
   ]
  },
  {
   "cell_type": "code",
   "execution_count": 26,
   "id": "ac6e15bf",
   "metadata": {},
   "outputs": [
    {
     "name": "stdout",
     "output_type": "stream",
     "text": [
      "0\n",
      "0\n",
      "0\n"
     ]
    }
   ],
   "source": [
    "#отбираем id всех пользователей из каждой группы и проверяем повторяются ли id в другой группе\n",
    "# P.S можно было написать функцию, но для малого объёма проверки данный вариант быстрее\n",
    "group_246 = logs[logs['group_id']==246]['user_id'].unique()\n",
    "group_247 = logs[logs['group_id']==247]\n",
    "group_248 = logs[logs['group_id']==248]\n",
    "\n",
    "group_247t = logs[logs['group_id']==247]['user_id'].unique()\n",
    "\n",
    "print(group_247['user_id'].isin(group_246).sum())\n",
    "\n",
    "print(group_248['user_id'].isin(group_246).sum())\n",
    "\n",
    "print(group_248['user_id'].isin(group_247t).sum())"
   ]
  },
  {
   "cell_type": "markdown",
   "id": "92cde2ec",
   "metadata": {},
   "source": [
    "В никакую из групп не попал один и тот же пользователь"
   ]
  },
  {
   "cell_type": "markdown",
   "id": "35b4a8be",
   "metadata": {},
   "source": [
    "### Вывод по 3 шагу:\n",
    " \n",
    "Всего 5 событий:\n",
    "* «Обучение» - Tutorial P.S скорее всего появлеется только в первый раз\n",
    "* «Появление главного экрана» - MainScreenAppear\n",
    "* «Появление экрана предложений» - OffersScreenAppear\n",
    "* «Появление экрана корзины» - CartScreenAppear\n",
    "* «Экран оплаты выполнен успешно» - PaymentScreenSuccessful\n",
    "\n",
    "В среднем на пользователя приходится 32 события, а медианно 20\n",
    "\n",
    "Данные \"доехали\" 1 августа (спустя неделю после теста),тест длился 2 недели. При удаление данных удалится меньше 2% информации\n",
    "\n",
    "Количество пользователей в каждой группе примерно одинаковое"
   ]
  },
  {
   "cell_type": "markdown",
   "id": "b5ede659",
   "metadata": {},
   "source": [
    "## Шаг"
   ]
  },
  {
   "cell_type": "markdown",
   "id": "8d6abbf9",
   "metadata": {},
   "source": [
    "### Анализ событий в логах"
   ]
  },
  {
   "cell_type": "markdown",
   "id": "2d44c35d",
   "metadata": {},
   "source": [
    "Всего 5 событий:\n",
    "* «Обучение» - Tutorial P.S скорее всего появлеется только в первый раз\n",
    "* «Появление главного экрана» - MainScreenAppear\n",
    "* «Появление экрана предложений» - OffersScreenAppear\n",
    "* «Появление экрана корзины» - CartScreenAppear\n",
    "* «Экран оплаты выполнен успешно» - PaymentScreenSuccessful"
   ]
  },
  {
   "cell_type": "code",
   "execution_count": 27,
   "id": "40325610",
   "metadata": {},
   "outputs": [
    {
     "data": {
      "image/png": "[encoded data removed]",
      "text/plain": [
       "<Figure size 1200x600 with 1 Axes>"
      ]
     },
     "metadata": {},
     "output_type": "display_data"
    }
   ],
   "source": [
    "logs_event = logs.groupby('event').agg({'group_id':'count'}).sort_values('group_id',ascending=False)\\\n",
    "            .plot(kind='bar',figsize=(12,6))\n",
    "plt.title('Частота событий')\n",
    "plt.xlabel('События')\n",
    "plt.show()"
   ]
  },
  {
   "cell_type": "markdown",
   "id": "829e8052",
   "metadata": {},
   "source": [
    "* Самым частым событием является - «Появление главного экрана» - MainScreenAppear. Скорее всего это то что видит пользователь, когда заходит в приложение. Это событие происходит практически в 3 раза чаще чем события на 2 месте.\n",
    "* События которые находятся на 2,3,4 местах - разница между ними не существенна\n",
    "  * «Появление экрана предложений» - OffersScreenAppear\n",
    "  * «Появление экрана корзины» - CartScreenAppear\n",
    "  * «Экран оплаты выполнен успешно» - PaymentScreenSuccessful\n",
    "* Событие «Обучение» - Tutorial произошло очень маленькое количество раз, скорее всего оно появляется у тех пользователей, которые впервые скачали приложение"
   ]
  },
  {
   "cell_type": "markdown",
   "id": "8c071003",
   "metadata": {},
   "source": [
    "### Количество пользователей совершивших каждое событие"
   ]
  },
  {
   "cell_type": "markdown",
   "id": "4875077b",
   "metadata": {},
   "source": [
    "Найдём какое количество пользователей совершило каждое событие, также найдём конверсию из пользоватлей в тех кто совершил одно событие"
   ]
  },
  {
   "cell_type": "code",
   "execution_count": 28,
   "id": "bd575913",
   "metadata": {},
   "outputs": [
    {
     "data": {
      "text/html": [
       "<div>\n",
       "<style scoped>\n",
       "    .dataframe tbody tr th:only-of-type {\n",
       "        vertical-align: middle;\n",
       "    }\n",
       "\n",
       "    .dataframe tbody tr th {\n",
       "        vertical-align: top;\n",
       "    }\n",
       "\n",
       "    .dataframe thead th {\n",
       "        text-align: right;\n",
       "    }\n",
       "</style>\n",
       "<table border=\"1\" class=\"dataframe\">\n",
       "  <thead>\n",
       "    <tr style=\"text-align: right;\">\n",
       "      <th></th>\n",
       "      <th>event</th>\n",
       "      <th>user_id</th>\n",
       "    </tr>\n",
       "  </thead>\n",
       "  <tbody>\n",
       "    <tr>\n",
       "      <th>1</th>\n",
       "      <td>MainScreenAppear</td>\n",
       "      <td>7419</td>\n",
       "    </tr>\n",
       "    <tr>\n",
       "      <th>2</th>\n",
       "      <td>OffersScreenAppear</td>\n",
       "      <td>4593</td>\n",
       "    </tr>\n",
       "    <tr>\n",
       "      <th>0</th>\n",
       "      <td>CartScreenAppear</td>\n",
       "      <td>3734</td>\n",
       "    </tr>\n",
       "    <tr>\n",
       "      <th>3</th>\n",
       "      <td>PaymentScreenSuccessful</td>\n",
       "      <td>3539</td>\n",
       "    </tr>\n",
       "    <tr>\n",
       "      <th>4</th>\n",
       "      <td>Tutorial</td>\n",
       "      <td>840</td>\n",
       "    </tr>\n",
       "  </tbody>\n",
       "</table>\n",
       "</div>"
      ],
      "text/plain": [
       "                     event  user_id\n",
       "1         MainScreenAppear     7419\n",
       "2       OffersScreenAppear     4593\n",
       "0         CartScreenAppear     3734\n",
       "3  PaymentScreenSuccessful     3539\n",
       "4                 Tutorial      840"
      ]
     },
     "execution_count": 28,
     "metadata": {},
     "output_type": "execute_result"
    }
   ],
   "source": [
    "#Группируем по событию и считаем количество уникальных пользователей совершивших это событие\n",
    "logs_event_user = logs.groupby('event').agg({'user_id':'nunique'}).reset_index().sort_values('user_id',ascending = False)\n",
    "logs_event_user"
   ]
  },
  {
   "cell_type": "code",
   "execution_count": 29,
   "id": "13db891c",
   "metadata": {},
   "outputs": [
    {
     "data": {
      "text/plain": [
       "7534"
      ]
     },
     "execution_count": 29,
     "metadata": {},
     "output_type": "execute_result"
    }
   ],
   "source": [
    "logs['user_id'].nunique()"
   ]
  },
  {
   "cell_type": "code",
   "execution_count": 30,
   "id": "0d03abfd",
   "metadata": {},
   "outputs": [
    {
     "data": {
      "text/html": [
       "<div>\n",
       "<style scoped>\n",
       "    .dataframe tbody tr th:only-of-type {\n",
       "        vertical-align: middle;\n",
       "    }\n",
       "\n",
       "    .dataframe tbody tr th {\n",
       "        vertical-align: top;\n",
       "    }\n",
       "\n",
       "    .dataframe thead th {\n",
       "        text-align: right;\n",
       "    }\n",
       "</style>\n",
       "<table border=\"1\" class=\"dataframe\">\n",
       "  <thead>\n",
       "    <tr style=\"text-align: right;\">\n",
       "      <th></th>\n",
       "      <th>event</th>\n",
       "      <th>user_id</th>\n",
       "      <th>cor</th>\n",
       "    </tr>\n",
       "  </thead>\n",
       "  <tbody>\n",
       "    <tr>\n",
       "      <th>1</th>\n",
       "      <td>MainScreenAppear</td>\n",
       "      <td>7419</td>\n",
       "      <td>98.47</td>\n",
       "    </tr>\n",
       "    <tr>\n",
       "      <th>2</th>\n",
       "      <td>OffersScreenAppear</td>\n",
       "      <td>4593</td>\n",
       "      <td>60.96</td>\n",
       "    </tr>\n",
       "    <tr>\n",
       "      <th>0</th>\n",
       "      <td>CartScreenAppear</td>\n",
       "      <td>3734</td>\n",
       "      <td>49.56</td>\n",
       "    </tr>\n",
       "    <tr>\n",
       "      <th>3</th>\n",
       "      <td>PaymentScreenSuccessful</td>\n",
       "      <td>3539</td>\n",
       "      <td>46.97</td>\n",
       "    </tr>\n",
       "    <tr>\n",
       "      <th>4</th>\n",
       "      <td>Tutorial</td>\n",
       "      <td>840</td>\n",
       "      <td>11.15</td>\n",
       "    </tr>\n",
       "  </tbody>\n",
       "</table>\n",
       "</div>"
      ],
      "text/plain": [
       "                     event  user_id    cor\n",
       "1         MainScreenAppear     7419  98.47\n",
       "2       OffersScreenAppear     4593  60.96\n",
       "0         CartScreenAppear     3734  49.56\n",
       "3  PaymentScreenSuccessful     3539  46.97\n",
       "4                 Tutorial      840  11.15"
      ]
     },
     "execution_count": 30,
     "metadata": {},
     "output_type": "execute_result"
    }
   ],
   "source": [
    "# расчёт количества пользователей совершвших событие от общего числа пользователей\n",
    "user_uevent = []\n",
    "count_user_event = logs_event_user['user_id']\n",
    "for i in count_user_event:\n",
    "    user_uevent.append(round((i/logs['user_id'].nunique())*100,2))\n",
    "logs_event_user['cor'] = user_uevent\n",
    "logs_event_user"
   ]
  },
  {
   "cell_type": "markdown",
   "id": "e49d1d72",
   "metadata": {},
   "source": [
    "Практически все пользователи попали на главный экран, и чуть больше половины дошло до экрана предложений, половина добавляет товар в корзину и покупает его - из последних 2 х пунктов можно сделать вывод что если человек добавляет товар в коризину он его купит с большой вероятностью (доля падения пользователей между корзиной и покупкой мала)"
   ]
  },
  {
   "cell_type": "markdown",
   "id": "013b841f",
   "metadata": {},
   "source": [
    "### Последовательность событий\n",
    "\n",
    "Не все события выстраиваются в цепочку, например обучение может появляться только у тех кто заходит в приложение впервые, поэтому доля пользователей прощедших обучение мала\n",
    "\n",
    "Пользователи могут сразу перейти в корзину не \"дожидаясь появления экрана предложений\". Лучше уточнить какая цепочка должна выстраиваться и какие есть у неё вариации\n",
    "\n",
    "Предположительная цепочка (строится на основание количества пользователей на каждом этапе) для большинства пользователей выглядит так:\n",
    "* MainScreenAppear → OffersScreenAppear\t→ CartScreenAppear → PaymentScreenSuccessful\t \n",
    "* ***На русском языке:*** Появление главного экрана → Появление экрана предложений → Появление экрана корзины → Появление экрана оплаты успешно\n",
    "\n"
   ]
  },
  {
   "cell_type": "markdown",
   "id": "88200af3",
   "metadata": {},
   "source": [
    "### Доля пользователей на каждом шаге"
   ]
  },
  {
   "cell_type": "code",
   "execution_count": 31,
   "id": "8888d947",
   "metadata": {},
   "outputs": [
    {
     "data": {
      "text/html": [
       "<div>\n",
       "<style scoped>\n",
       "    .dataframe tbody tr th:only-of-type {\n",
       "        vertical-align: middle;\n",
       "    }\n",
       "\n",
       "    .dataframe tbody tr th {\n",
       "        vertical-align: top;\n",
       "    }\n",
       "\n",
       "    .dataframe thead th {\n",
       "        text-align: right;\n",
       "    }\n",
       "</style>\n",
       "<table border=\"1\" class=\"dataframe\">\n",
       "  <thead>\n",
       "    <tr style=\"text-align: right;\">\n",
       "      <th></th>\n",
       "      <th>event</th>\n",
       "      <th>user_id</th>\n",
       "      <th>cor</th>\n",
       "      <th>conversion_user</th>\n",
       "    </tr>\n",
       "  </thead>\n",
       "  <tbody>\n",
       "    <tr>\n",
       "      <th>0</th>\n",
       "      <td>MainScreenAppear</td>\n",
       "      <td>7419</td>\n",
       "      <td>98.47</td>\n",
       "      <td>98.47</td>\n",
       "    </tr>\n",
       "    <tr>\n",
       "      <th>1</th>\n",
       "      <td>OffersScreenAppear</td>\n",
       "      <td>4593</td>\n",
       "      <td>60.96</td>\n",
       "      <td>61.91</td>\n",
       "    </tr>\n",
       "    <tr>\n",
       "      <th>2</th>\n",
       "      <td>CartScreenAppear</td>\n",
       "      <td>3734</td>\n",
       "      <td>49.56</td>\n",
       "      <td>81.30</td>\n",
       "    </tr>\n",
       "    <tr>\n",
       "      <th>3</th>\n",
       "      <td>PaymentScreenSuccessful</td>\n",
       "      <td>3539</td>\n",
       "      <td>46.97</td>\n",
       "      <td>94.78</td>\n",
       "    </tr>\n",
       "    <tr>\n",
       "      <th>4</th>\n",
       "      <td>Tutorial</td>\n",
       "      <td>840</td>\n",
       "      <td>11.15</td>\n",
       "      <td>23.74</td>\n",
       "    </tr>\n",
       "  </tbody>\n",
       "</table>\n",
       "</div>"
      ],
      "text/plain": [
       "                     event  user_id    cor  conversion_user\n",
       "0         MainScreenAppear     7419  98.47            98.47\n",
       "1       OffersScreenAppear     4593  60.96            61.91\n",
       "2         CartScreenAppear     3734  49.56            81.30\n",
       "3  PaymentScreenSuccessful     3539  46.97            94.78\n",
       "4                 Tutorial      840  11.15            23.74"
      ]
     },
     "execution_count": 31,
     "metadata": {},
     "output_type": "execute_result"
    }
   ],
   "source": [
    "# Расчёт количества пользователей от количества пользователей на предыдущем шаге\n",
    "logs_event_user = logs_event_user.reset_index(drop=True)\n",
    "c = []\n",
    "for i in range(0,len(logs_event_user['user_id'])):\n",
    "    if i == 0:\n",
    "        c.append(round((logs_event_user.iloc[i]['user_id']/logs['user_id'].nunique())*100,2))\n",
    "    else:\n",
    "        c.append(round((logs_event_user.iloc[i]['user_id']/logs_event_user.iloc[i-1]['user_id'])*100,2))\n",
    "logs_event_user['conversion_user'] = c\n",
    "    \n",
    "logs_event_user"
   ]
  },
  {
   "cell_type": "code",
   "execution_count": 32,
   "id": "48a729dc",
   "metadata": {},
   "outputs": [
    {
     "data": {
      "image/png": "[encoded data removed]",
      "text/plain": [
       "<Figure size 1500x800 with 1 Axes>"
      ]
     },
     "metadata": {},
     "output_type": "display_data"
    }
   ],
   "source": [
    "plt.figure(figsize = (15,8))\n",
    "plt.plot(logs_event_user['event'],logs_event_user['conversion_user'],marker = 'o')\n",
    "plt.title('Доля пользователей в зависимости от количества пользователей на предыдущем шаге')\n",
    "plt.xlabel('Событие')\n",
    "plt.ylabel('Процент пользователей')\n",
    "plt.show()"
   ]
  },
  {
   "cell_type": "markdown",
   "id": "083e50bc",
   "metadata": {},
   "source": [
    "**Воронка событий**"
   ]
  },
  {
   "cell_type": "markdown",
   "id": "88d7e80c",
   "metadata": {},
   "source": [
    "Удалим событие Tutorial"
   ]
  },
  {
   "cell_type": "code",
   "execution_count": 33,
   "id": "93223b9a",
   "metadata": {},
   "outputs": [
    {
     "data": {
      "text/html": [
       "<div>\n",
       "<style scoped>\n",
       "    .dataframe tbody tr th:only-of-type {\n",
       "        vertical-align: middle;\n",
       "    }\n",
       "\n",
       "    .dataframe tbody tr th {\n",
       "        vertical-align: top;\n",
       "    }\n",
       "\n",
       "    .dataframe thead th {\n",
       "        text-align: right;\n",
       "    }\n",
       "</style>\n",
       "<table border=\"1\" class=\"dataframe\">\n",
       "  <thead>\n",
       "    <tr style=\"text-align: right;\">\n",
       "      <th></th>\n",
       "      <th>event</th>\n",
       "      <th>user_id</th>\n",
       "      <th>cor</th>\n",
       "      <th>conversion_user</th>\n",
       "    </tr>\n",
       "  </thead>\n",
       "  <tbody>\n",
       "    <tr>\n",
       "      <th>0</th>\n",
       "      <td>MainScreenAppear</td>\n",
       "      <td>7419</td>\n",
       "      <td>98.47</td>\n",
       "      <td>98.47</td>\n",
       "    </tr>\n",
       "    <tr>\n",
       "      <th>1</th>\n",
       "      <td>OffersScreenAppear</td>\n",
       "      <td>4593</td>\n",
       "      <td>60.96</td>\n",
       "      <td>61.91</td>\n",
       "    </tr>\n",
       "    <tr>\n",
       "      <th>2</th>\n",
       "      <td>CartScreenAppear</td>\n",
       "      <td>3734</td>\n",
       "      <td>49.56</td>\n",
       "      <td>81.30</td>\n",
       "    </tr>\n",
       "    <tr>\n",
       "      <th>3</th>\n",
       "      <td>PaymentScreenSuccessful</td>\n",
       "      <td>3539</td>\n",
       "      <td>46.97</td>\n",
       "      <td>94.78</td>\n",
       "    </tr>\n",
       "  </tbody>\n",
       "</table>\n",
       "</div>"
      ],
      "text/plain": [
       "                     event  user_id    cor  conversion_user\n",
       "0         MainScreenAppear     7419  98.47            98.47\n",
       "1       OffersScreenAppear     4593  60.96            61.91\n",
       "2         CartScreenAppear     3734  49.56            81.30\n",
       "3  PaymentScreenSuccessful     3539  46.97            94.78"
      ]
     },
     "execution_count": 33,
     "metadata": {},
     "output_type": "execute_result"
    }
   ],
   "source": [
    "logs_funnel = logs_event_user.iloc[:4]\n",
    "logs_funnel"
   ]
  },
  {
   "cell_type": "code",
   "execution_count": null,
   "id": "e55fa9af",
   "metadata": {},
   "outputs": [],
   "source": [
    "fig = px.funnel(logs_funnel,y='event',x='cor',title='Доля пользователей на каждом событие от общего числа пользователей')\n",
    "fig.show(renderer=\"png\", width=700, height=450, scale=None)"
   ]
  },
  {
   "cell_type": "code",
   "execution_count": null,
   "id": "30e81a39",
   "metadata": {},
   "outputs": [],
   "source": [
    "fig = px.funnel(logs_funnel,y='event',x='conversion_user',\n",
    "                title='Доля пользователей на каждом событие от общего числа пользователей на предыдущем шаге')\n",
    "fig.show()"
   ]
  },
  {
   "cell_type": "markdown",
   "id": "dbdf1bef",
   "metadata": {},
   "source": [
    "* Обучение (tutorial) в расчёт не берём тк неизвестно как где и когда оно появляется.\n",
    "* Провал на первом шаге: от `MainScreenAppear` к `OffersScreenAppear`. Вероятно, нужно лучше прорабатывать механику, чтобы пользователи переходили к `OffersScreen`\n",
    "* Больше всего пользователей тереяется на шаге OffersScreenAppear, на всех осатльных шагах конверсия растёт"
   ]
  },
  {
   "cell_type": "markdown",
   "id": "2bddde04",
   "metadata": {},
   "source": [
    "До конца (до оплаты) с первого шага доходит 47% пользователей"
   ]
  },
  {
   "cell_type": "markdown",
   "id": "9091e925",
   "metadata": {},
   "source": [
    "### Вывод по 4 шагу"
   ]
  },
  {
   "cell_type": "markdown",
   "id": "bb8d7015",
   "metadata": {},
   "source": [
    "Всего в логе 5 событий:\n",
    "* «Обучение» - Tutorial\n",
    "* «Появление главного экрана» - MainScreenAppear\n",
    "* «Появление экрана предложений» - OffersScreenAppear\n",
    "* «Появление экрана корзины» - CartScreenAppear\n",
    "* «Экран оплаты выполнен успешно» - PaymentScreenSuccessful\n",
    "\n",
    "Предположительно воронка событий выглядит:\n",
    "* MainScreenAppear → OffersScreenAppear\t→ CartScreenAppear → PaymentScreenSuccessful\t \n",
    "* ***На русском языке:*** Появление главного экрана → Появление экрана предложений → Появление экрана корзины → Появление экрана оплаты успешно\n",
    "* В расчёт не берём шаг с обучением (tutorial) тк слишком мало пользователей прошли через этот шаг (возможно изучались как новые, так и старые пользователи - в зависимости от типа исследования (задачи) стоит проанализировать правильное это действие или нет и сообщить выше). Можно добавить добавить этот этап в воронку, но проблема в том что не все пользователи проходят через этот этап.\n",
    "\n",
    "Больше всего пользователей теряется на этапе:\n",
    "* OffersScreenAppear - \"Появление экрана предложений\".\n",
    "  * 39% пользователей от общего количества пользователей\n",
    "  * 38% пользователей от предыдущего шага\n",
    "\n",
    "От события - Появление главного экрана до оплаты заказа доходит 47% пользователей\n"
   ]
  },
  {
   "cell_type": "markdown",
   "id": "028c0428",
   "metadata": {},
   "source": [
    "## Шаг"
   ]
  },
  {
   "cell_type": "markdown",
   "id": "dd83600a",
   "metadata": {},
   "source": [
    "Количество пользователей в каждой группе"
   ]
  },
  {
   "cell_type": "code",
   "execution_count": null,
   "id": "edfc0a35",
   "metadata": {},
   "outputs": [],
   "source": [
    "logs.groupby('group_id').agg({'user_id':'nunique'})"
   ]
  },
  {
   "cell_type": "markdown",
   "id": "2c7d63b9",
   "metadata": {},
   "source": [
    "Во всех группах примерно одинаковое количество пользователей"
   ]
  },
  {
   "cell_type": "markdown",
   "id": "d0d08982",
   "metadata": {},
   "source": [
    "### Проверка разницы между контрольными группами A/A\n"
   ]
  },
  {
   "cell_type": "markdown",
   "id": "3abd8569",
   "metadata": {},
   "source": [
    "Для решения данной задачи напишем функцию, функция основана на:\n",
    "\n",
    "Поскольку нам нужно сравнить доли будем использовать Z критерий для сравнения долей. Тест будет являться двусторонним.\n",
    "\n",
    "Сформулируем нулевую и алтернативную гипотезу:\n",
    "* Пропорции между группами равны - нулевая гипотеза\n",
    "* Пропорции между группами различаются - алтернативная гипотеза\n",
    "\n",
    "В качестве уровня значимости для всех тестов возьмём 5%, но с поправкой Бонферрони:\n",
    "* При проверке A/A теста будет происходить 4 проверки гипотезы → следовательно уровень значимости/на количество запускаемых  тестов\n",
    "* При сравнение групп A/B будем проводить 12 проверок гипотез → будем делить на 12\n",
    "* Данные тесты различиются поэтому разбиты в 2 группы. В первой мы проверяем есть ли различия между контрольными группами, а во второй группе мы проверяем есть ли различия между эксперементальной и контрольными\n",
    "* Поправка Бонферрони применяется для того чтобы минимизировать ошибку 1-го рода"
   ]
  },
  {
   "cell_type": "code",
   "execution_count": null,
   "id": "c5b317fb",
   "metadata": {},
   "outputs": [],
   "source": [
    "logs.head()"
   ]
  },
  {
   "cell_type": "code",
   "execution_count": null,
   "id": "838c1d2f",
   "metadata": {},
   "outputs": [],
   "source": [
    "def test(first_number_group,second_number_group,event,count_test):\n",
    "    \n",
    "    # функция написана сразу для всех типов эксперементов: A/A,A/B,AA/B, поэтому в первый аргумент группу нужно передавать\n",
    "    # списка \n",
    "    # функция описывает правило отбора группы из датасета при A/B,A/A и AA/B тесте\n",
    "        b = 0\n",
    "        for i in range(0,len(first_number_group)):\n",
    "            b+=1 # если в первом аргументе больше 1-ой группы (считаем количество элементов в списке) \n",
    "        if b > 1: # правило отбора при AA/B тесте\n",
    "            first_group = logs.query('group_id == @first_number_group[0] or group_id == @first_number_group[1]')\n",
    "        else:\n",
    "            first_group = logs[logs['group_id']==first_number_group[0]]\n",
    "            \n",
    "        alpha = 0.05/count_test # критический уровень статистической значимости с учётом поправки\n",
    "        \n",
    "        second_group = logs[logs['group_id']==second_number_group]\n",
    "\n",
    "        successes = [first_group[first_group['event']==event]['user_id'].nunique(),\n",
    "                     second_group[second_group['event']==event]['user_id'].nunique()]\n",
    "\n",
    "        trials = [first_group['user_id'].nunique(),second_group['user_id'].nunique()]\n",
    "\n",
    "        # пропорция успехов в первой группе:\n",
    "        p1 = successes[0]/trials[0]\n",
    "        # пропорция успехов во второй группе:\n",
    "        p2 = successes[1]/trials[1]\n",
    "        # пропорция успехов в комбинированном датасете:\n",
    "        p_combined = (successes[0] + successes[1]) / (trials[0] + trials[1])\n",
    "        #разница пропорций в датасетах\n",
    "        difference = p1 - p2\n",
    "        #считаем статистику в ст.отклонениях стандартного нормального распределения\n",
    "        z_value = difference / mth.sqrt(p_combined * (1 - p_combined) * (1/trials[0] + 1/trials[1]))\n",
    "        #задаем стандартное нормальное распределение (среднее 0, ст.отклонение 1)\n",
    "        distr = st.norm(0, 1)\n",
    "        #считаем статистику в ст.отклонениях стандартного нормального распределения\n",
    "        z_value = difference / mth.sqrt(p_combined * (1 - p_combined) * (1/trials[0] + 1/trials[1]))\n",
    "        #задаем стандартное нормальное распределение (среднее 0, ст.отклонение 1)\n",
    "        distr = st.norm(0, 1)\n",
    "        p_value = (1 - distr.cdf(abs(z_value))) * 2\n",
    "        print(f'Расчёт при событие {event} между группами {first_number_group} и {second_number_group}')\n",
    "        print('p-значение: ', p_value)\n",
    "        if (p_value < alpha):\n",
    "            print(\"Отвергаем нулевую гипотезу: между долями есть значимая разница\")\n",
    "        else:\n",
    "            print(\"Не получилось отвергнуть нулевую гипотезу, нет оснований считать доли разными\")\n"
   ]
  },
  {
   "cell_type": "markdown",
   "id": "ee9524e4",
   "metadata": {},
   "source": [
    "Проверка групп A/A"
   ]
  },
  {
   "cell_type": "code",
   "execution_count": null,
   "id": "20046ba8",
   "metadata": {},
   "outputs": [],
   "source": [
    "event = logs['event'].unique()\n",
    "event = event[1:len(event)]\n",
    "event"
   ]
  },
  {
   "cell_type": "code",
   "execution_count": null,
   "id": "3318ad2f",
   "metadata": {},
   "outputs": [],
   "source": [
    "# перебираем все события \n",
    "for i in event:\n",
    "    test([246],247,i,16)\n",
    "    print()\n"
   ]
  },
  {
   "cell_type": "markdown",
   "id": "0b08628c",
   "metadata": {},
   "source": [
    "По результатам теста видим, что разницы между группами нет, но в p-values при странице оплаты имеет показатели ниже чем на всех других событиях"
   ]
  },
  {
   "cell_type": "markdown",
   "id": "7d4f81d1",
   "metadata": {},
   "source": [
    "### Сравниваем по отдельности с группами A и B\n"
   ]
  },
  {
   "cell_type": "code",
   "execution_count": null,
   "id": "a21b05db",
   "metadata": {},
   "outputs": [],
   "source": [
    "for i in event:\n",
    "    test([246],248,i,16)\n",
    "    print()"
   ]
  },
  {
   "cell_type": "markdown",
   "id": "046d6b4d",
   "metadata": {},
   "source": [
    "CartScreenAppear - имеет низкий p-value всравнение с другими событиями"
   ]
  },
  {
   "cell_type": "markdown",
   "id": "dec4f5b8",
   "metadata": {},
   "source": [
    "Прежде чем говорить о p-value вспомним что демонстрируют его числа - чем число меньше тем больше разница в группах\n",
    "\n",
    "Разница в p-value между 2-мя эксперемента заметна, больше всего это выраженно в событиях: PaymentScreenSuccessful,OffersScreenAppear,MainScreenAppear скорее всего пользователи в разных группах вели себя по разному на этих этапах. Но p-value находится выше критического уровня значимости.\n",
    "\n",
    "Так что нет оснований отвергать нулевую гипотезу → при изменение шрифта поведение пользователей не изменяется."
   ]
  },
  {
   "cell_type": "markdown",
   "id": "2de367b1",
   "metadata": {},
   "source": [
    "### Тест AA/B"
   ]
  },
  {
   "cell_type": "markdown",
   "id": "a35df7ac",
   "metadata": {},
   "source": [
    "Проведём тест на совмещённых контрольных группах"
   ]
  },
  {
   "cell_type": "code",
   "execution_count": null,
   "id": "3856284f",
   "metadata": {},
   "outputs": [],
   "source": [
    "for i in event:\n",
    "    test([246,247],248,i,16)\n",
    "    print()"
   ]
  },
  {
   "cell_type": "markdown",
   "id": "bf8c0581",
   "metadata": {},
   "source": [
    "Также при проверке по объеденённым контрольным группам не получается отвергнуть нулевую гипотезу ни при одном из вариантов событий\n",
    "\n",
    "Но при проверке событий CartScreenAppear,MainScreenAppear является ниже чем при остальных событиях"
   ]
  },
  {
   "cell_type": "markdown",
   "id": "1f784b8d",
   "metadata": {},
   "source": [
    "### Выбор уровня статистической значимости"
   ]
  },
  {
   "cell_type": "markdown",
   "id": "0cffb914",
   "metadata": {},
   "source": [
    "Критический уровень значимости был выбран чтобы минимизировать ошибку первого рода, но даже если не учитывать поправку Бонферонни и оставить его 0.05, то это не окажет влияние на результат в данном эксперементе. Но всегда нужно учитывать тот факт, что может возникнуть ошибка первого рода и результаты могут быть интерпретированы неправильно. Также стоит обращать внимание на значение p-value"
   ]
  },
  {
   "cell_type": "markdown",
   "id": "70fcb7e6",
   "metadata": {},
   "source": [
    "### Вывод по результатам эксперемента:"
   ]
  },
  {
   "cell_type": "markdown",
   "id": "efcfc715",
   "metadata": {},
   "source": [
    "* Тесты проводились по всем событиям\n",
    "* Разницы между группами A/A не было обнаружено - все механизмы работают корректно\n",
    "* Разницы между группами при проведение эксперемента A/B И AA/B не было обнаружено (не удалось отвергнуть нулевую гипотезу) → изменение шрифта не оказывает влиияние на поведения пользователей. Данное изменение можно вводить\n",
    "* Стоить обратить внимание на поведение пользователей при переходе на событие:\n",
    "  * CartScreenAppear:\n",
    "    * Слишком низкий уровень p-value между 246 и 248 группой, между 247 и 248 группой он значительно больше (0,07 против 0,57). Также низкий при проверке между объеденёнными контрольными группами и эксперементальной.\n",
    "  * PaymentScreenSuccessful \n",
    "    * Между контрольными группами и также между 246 и 248 группой низкие показатели"
   ]
  },
  {
   "cell_type": "markdown",
   "id": "72abb9df",
   "metadata": {},
   "source": [
    "## Вывод по проекту"
   ]
  },
  {
   "cell_type": "markdown",
   "id": "fdac6139",
   "metadata": {},
   "source": [
    "* При планирование теста стоит закладывать время на то чтобы данные \"доехали\" - по результатам анализа данные доезжают за неделю\n",
    "* Больше всего пользователей теряется на этапе: OffersScreenAppear - \"Появление экрана предложений\" 39% пользователей от общего количества пользователей и 38% пользователей от предыдущего шага.\n",
    "* До оплаты товара доходит 47% пользователей\n",
    "\n",
    "По результатам тестов над контрольными и эксперементальной группой следующие выводы:\n",
    "* Разницы между контрольными группам не было обнаружено - все механизмы работают корректно\n",
    "* Разницы между контрольными группами и эксперементальной также не было обнаружено - при использование нового шрифта поведение пользователей не изменяется\n",
    "* Стоить обратить внимание на поведение пользователей при переходе на событие:\n",
    "  * CartScreenAppear:\n",
    "  * PaymentScreenSuccessful \n",
    "  \n",
    "  Показатели различия между группами при этих событиях слишком низкие (это говорит о том что по этим событиям возможно есть различия в зависимости от пользователя) на фоне других показателей. Скорее всего это связано с другим фактором, а не с тем что изменился шрифт, тк эти различия проялвяются также между контрольными группами, стоить обратить внимания на эти события тоже и проработать переход к ним для того чтобы увеличить продажи. Но в качестве первоочередной задачи оставить работу при переходе на событие OffersScreenAppear - \"Появление экрана предложений\" потому что именно на нём происходит большой спад трафика.\n",
    "* Итоговый вывод по A/B тесту: можно вводить новый шрифт, он не оказывает влияние на поведение пользователей"
   ]
  }
 ],
 "metadata": {
  "ExecuteTimeLog": [
   {
    "duration": 1032,
    "start_time": "2023-04-03T20:28:36.263Z"
   },
   {
    "duration": 203,
    "start_time": "2023-04-03T20:28:37.297Z"
   },
   {
    "duration": 14,
    "start_time": "2023-04-03T20:28:37.502Z"
   },
   {
    "duration": 17,
    "start_time": "2023-04-03T20:28:37.518Z"
   },
   {
    "duration": 17,
    "start_time": "2023-04-03T20:28:37.548Z"
   },
   {
    "duration": 28,
    "start_time": "2023-04-03T20:28:37.566Z"
   },
   {
    "duration": 13,
    "start_time": "2023-04-03T20:28:37.595Z"
   },
   {
    "duration": 15,
    "start_time": "2023-04-03T20:28:37.610Z"
   },
   {
    "duration": 64,
    "start_time": "2023-04-03T20:28:37.626Z"
   },
   {
    "duration": 111,
    "start_time": "2023-04-03T20:28:37.692Z"
   },
   {
    "duration": 7,
    "start_time": "2023-04-03T20:28:37.805Z"
   },
   {
    "duration": 94,
    "start_time": "2023-04-03T20:28:37.813Z"
   },
   {
    "duration": 26,
    "start_time": "2023-04-03T20:28:37.908Z"
   },
   {
    "duration": 24,
    "start_time": "2023-04-03T20:28:37.949Z"
   },
   {
    "duration": 6,
    "start_time": "2023-04-03T20:28:37.974Z"
   },
   {
    "duration": 23,
    "start_time": "2023-04-03T20:28:37.981Z"
   },
   {
    "duration": 177,
    "start_time": "2023-04-03T20:28:38.005Z"
   },
   {
    "duration": 256,
    "start_time": "2023-04-03T20:28:38.184Z"
   },
   {
    "duration": 30,
    "start_time": "2023-04-03T20:28:38.442Z"
   },
   {
    "duration": 6,
    "start_time": "2023-04-03T20:28:38.474Z"
   },
   {
    "duration": 53,
    "start_time": "2023-04-03T20:28:38.482Z"
   },
   {
    "duration": 89,
    "start_time": "2023-04-03T20:28:38.536Z"
   },
   {
    "duration": 38,
    "start_time": "2023-04-03T20:28:38.626Z"
   },
   {
    "duration": 25,
    "start_time": "2023-04-03T20:28:38.665Z"
   },
   {
    "duration": 179,
    "start_time": "2023-04-03T20:28:38.691Z"
   },
   {
    "duration": 47,
    "start_time": "2023-04-03T20:28:38.871Z"
   },
   {
    "duration": 5,
    "start_time": "2023-04-03T20:28:38.920Z"
   },
   {
    "duration": 41,
    "start_time": "2023-04-03T20:28:38.928Z"
   },
   {
    "duration": 12,
    "start_time": "2023-04-03T20:28:38.970Z"
   },
   {
    "duration": 159,
    "start_time": "2023-04-03T20:28:38.983Z"
   },
   {
    "duration": 30,
    "start_time": "2023-04-03T20:28:39.159Z"
   },
   {
    "duration": 7,
    "start_time": "2023-04-03T20:28:39.190Z"
   },
   {
    "duration": 130,
    "start_time": "2023-04-03T20:28:39.198Z"
   },
   {
    "duration": 126,
    "start_time": "2023-04-03T20:28:39.330Z"
   },
   {
    "duration": 125,
    "start_time": "2023-04-03T20:28:39.457Z"
   },
   {
    "duration": 440,
    "start_time": "2023-04-03T20:28:39.584Z"
   },
   {
    "duration": 1022,
    "start_time": "2023-04-03T20:29:09.173Z"
   },
   {
    "duration": 238,
    "start_time": "2023-04-03T20:29:10.197Z"
   },
   {
    "duration": 26,
    "start_time": "2023-04-03T20:29:10.438Z"
   },
   {
    "duration": 21,
    "start_time": "2023-04-03T20:29:10.466Z"
   },
   {
    "duration": 9,
    "start_time": "2023-04-03T20:29:10.490Z"
   },
   {
    "duration": 19,
    "start_time": "2023-04-03T20:29:10.501Z"
   },
   {
    "duration": 9,
    "start_time": "2023-04-03T20:29:10.522Z"
   },
   {
    "duration": 31,
    "start_time": "2023-04-03T20:29:10.532Z"
   },
   {
    "duration": 52,
    "start_time": "2023-04-03T20:29:10.564Z"
   },
   {
    "duration": 99,
    "start_time": "2023-04-03T20:29:10.619Z"
   },
   {
    "duration": 8,
    "start_time": "2023-04-03T20:29:10.720Z"
   },
   {
    "duration": 95,
    "start_time": "2023-04-03T20:29:10.729Z"
   },
   {
    "duration": 37,
    "start_time": "2023-04-03T20:29:10.825Z"
   },
   {
    "duration": 18,
    "start_time": "2023-04-03T20:29:10.863Z"
   },
   {
    "duration": 5,
    "start_time": "2023-04-03T20:29:10.882Z"
   },
   {
    "duration": 27,
    "start_time": "2023-04-03T20:29:10.888Z"
   },
   {
    "duration": 202,
    "start_time": "2023-04-03T20:29:10.917Z"
   },
   {
    "duration": 251,
    "start_time": "2023-04-03T20:29:11.121Z"
   },
   {
    "duration": 20,
    "start_time": "2023-04-03T20:29:11.374Z"
   },
   {
    "duration": 6,
    "start_time": "2023-04-03T20:29:11.395Z"
   },
   {
    "duration": 62,
    "start_time": "2023-04-03T20:29:11.403Z"
   },
   {
    "duration": 84,
    "start_time": "2023-04-03T20:29:11.467Z"
   },
   {
    "duration": 29,
    "start_time": "2023-04-03T20:29:11.563Z"
   },
   {
    "duration": 25,
    "start_time": "2023-04-03T20:29:11.593Z"
   },
   {
    "duration": 253,
    "start_time": "2023-04-03T20:29:11.620Z"
   },
   {
    "duration": 48,
    "start_time": "2023-04-03T20:29:11.875Z"
   },
   {
    "duration": 7,
    "start_time": "2023-04-03T20:29:11.924Z"
   },
   {
    "duration": 24,
    "start_time": "2023-04-03T20:29:11.949Z"
   },
   {
    "duration": 12,
    "start_time": "2023-04-03T20:29:11.974Z"
   },
   {
    "duration": 166,
    "start_time": "2023-04-03T20:29:11.988Z"
   },
   {
    "duration": 29,
    "start_time": "2023-04-03T20:29:12.161Z"
   },
   {
    "duration": 7,
    "start_time": "2023-04-03T20:29:12.191Z"
   },
   {
    "duration": 122,
    "start_time": "2023-04-03T20:29:12.199Z"
   },
   {
    "duration": 137,
    "start_time": "2023-04-03T20:29:12.322Z"
   },
   {
    "duration": 115,
    "start_time": "2023-04-03T20:29:12.464Z"
   },
   {
    "duration": 381,
    "start_time": "2023-04-03T20:29:12.581Z"
   },
   {
    "duration": 1307,
    "start_time": "2023-04-04T03:54:00.826Z"
   },
   {
    "duration": 578,
    "start_time": "2023-04-04T03:54:02.135Z"
   },
   {
    "duration": 16,
    "start_time": "2023-04-04T03:54:02.714Z"
   },
   {
    "duration": 29,
    "start_time": "2023-04-04T03:54:02.731Z"
   },
   {
    "duration": 8,
    "start_time": "2023-04-04T03:54:02.762Z"
   },
   {
    "duration": 20,
    "start_time": "2023-04-04T03:54:02.771Z"
   },
   {
    "duration": 24,
    "start_time": "2023-04-04T03:54:02.792Z"
   },
   {
    "duration": 23,
    "start_time": "2023-04-04T03:54:02.817Z"
   },
   {
    "duration": 72,
    "start_time": "2023-04-04T03:54:02.841Z"
   },
   {
    "duration": 104,
    "start_time": "2023-04-04T03:54:02.915Z"
   },
   {
    "duration": 14,
    "start_time": "2023-04-04T03:54:03.021Z"
   },
   {
    "duration": 93,
    "start_time": "2023-04-04T03:54:03.036Z"
   },
   {
    "duration": 33,
    "start_time": "2023-04-04T03:54:03.130Z"
   },
   {
    "duration": 93,
    "start_time": "2023-04-04T03:55:23.603Z"
   },
   {
    "duration": 19,
    "start_time": "2023-04-04T03:55:39.995Z"
   },
   {
    "duration": 15,
    "start_time": "2023-04-04T03:55:48.331Z"
   },
   {
    "duration": 19,
    "start_time": "2023-04-04T03:56:50.947Z"
   },
   {
    "duration": 4,
    "start_time": "2023-04-04T03:57:24.809Z"
   },
   {
    "duration": 232,
    "start_time": "2023-04-04T03:57:24.816Z"
   },
   {
    "duration": 11,
    "start_time": "2023-04-04T03:57:25.049Z"
   },
   {
    "duration": 37,
    "start_time": "2023-04-04T03:57:25.062Z"
   },
   {
    "duration": 8,
    "start_time": "2023-04-04T03:57:25.100Z"
   },
   {
    "duration": 27,
    "start_time": "2023-04-04T03:57:25.109Z"
   },
   {
    "duration": 9,
    "start_time": "2023-04-04T03:57:25.138Z"
   },
   {
    "duration": 18,
    "start_time": "2023-04-04T03:57:25.149Z"
   },
   {
    "duration": 75,
    "start_time": "2023-04-04T03:57:25.169Z"
   },
   {
    "duration": 115,
    "start_time": "2023-04-04T03:57:25.247Z"
   },
   {
    "duration": 8,
    "start_time": "2023-04-04T03:57:25.364Z"
   },
   {
    "duration": 114,
    "start_time": "2023-04-04T03:57:25.373Z"
   },
   {
    "duration": 29,
    "start_time": "2023-04-04T03:57:25.488Z"
   },
   {
    "duration": 22,
    "start_time": "2023-04-04T03:57:25.518Z"
   },
   {
    "duration": 22,
    "start_time": "2023-04-04T03:57:25.541Z"
   },
   {
    "duration": 7,
    "start_time": "2023-04-04T03:57:25.564Z"
   },
   {
    "duration": 26,
    "start_time": "2023-04-04T03:57:25.572Z"
   },
   {
    "duration": 223,
    "start_time": "2023-04-04T03:57:25.600Z"
   },
   {
    "duration": 252,
    "start_time": "2023-04-04T03:57:25.834Z"
   },
   {
    "duration": 20,
    "start_time": "2023-04-04T03:57:26.087Z"
   },
   {
    "duration": 5,
    "start_time": "2023-04-04T03:57:26.108Z"
   },
   {
    "duration": 29,
    "start_time": "2023-04-04T03:57:26.134Z"
   },
   {
    "duration": 93,
    "start_time": "2023-04-04T03:57:26.164Z"
   },
   {
    "duration": 30,
    "start_time": "2023-04-04T03:57:26.258Z"
   },
   {
    "duration": 26,
    "start_time": "2023-04-04T03:57:26.290Z"
   },
   {
    "duration": 53,
    "start_time": "2023-04-04T03:57:26.318Z"
   },
   {
    "duration": 182,
    "start_time": "2023-04-04T03:57:26.373Z"
   },
   {
    "duration": 51,
    "start_time": "2023-04-04T03:57:26.559Z"
   },
   {
    "duration": 23,
    "start_time": "2023-04-04T03:57:26.612Z"
   },
   {
    "duration": 21,
    "start_time": "2023-04-04T03:57:26.637Z"
   },
   {
    "duration": 15,
    "start_time": "2023-04-04T03:57:26.660Z"
   },
   {
    "duration": 178,
    "start_time": "2023-04-04T03:57:26.676Z"
   },
   {
    "duration": 9,
    "start_time": "2023-04-04T03:57:58.559Z"
   },
   {
    "duration": 75,
    "start_time": "2023-04-04T03:59:03.417Z"
   },
   {
    "duration": 8,
    "start_time": "2023-04-04T04:00:41.087Z"
   },
   {
    "duration": 8,
    "start_time": "2023-04-04T04:00:48.320Z"
   },
   {
    "duration": 431,
    "start_time": "2023-04-04T04:01:59.540Z"
   },
   {
    "duration": 42,
    "start_time": "2023-04-04T04:02:25.275Z"
   },
   {
    "duration": 89,
    "start_time": "2023-04-04T04:02:47.527Z"
   },
   {
    "duration": 41,
    "start_time": "2023-04-04T04:03:19.931Z"
   },
   {
    "duration": 38,
    "start_time": "2023-04-04T04:04:06.269Z"
   },
   {
    "duration": 39,
    "start_time": "2023-04-04T04:07:58.549Z"
   },
   {
    "duration": 37,
    "start_time": "2023-04-04T04:08:03.537Z"
   },
   {
    "duration": 3,
    "start_time": "2023-04-04T04:09:08.384Z"
   },
   {
    "duration": 208,
    "start_time": "2023-04-04T04:09:08.389Z"
   },
   {
    "duration": 14,
    "start_time": "2023-04-04T04:09:08.599Z"
   },
   {
    "duration": 32,
    "start_time": "2023-04-04T04:09:08.615Z"
   },
   {
    "duration": 9,
    "start_time": "2023-04-04T04:09:08.650Z"
   },
   {
    "duration": 36,
    "start_time": "2023-04-04T04:09:08.660Z"
   },
   {
    "duration": 22,
    "start_time": "2023-04-04T04:09:08.698Z"
   },
   {
    "duration": 20,
    "start_time": "2023-04-04T04:09:08.723Z"
   },
   {
    "duration": 62,
    "start_time": "2023-04-04T04:09:08.744Z"
   },
   {
    "duration": 113,
    "start_time": "2023-04-04T04:09:08.807Z"
   },
   {
    "duration": 13,
    "start_time": "2023-04-04T04:09:08.922Z"
   },
   {
    "duration": 99,
    "start_time": "2023-04-04T04:09:08.937Z"
   },
   {
    "duration": 35,
    "start_time": "2023-04-04T04:09:09.037Z"
   },
   {
    "duration": 14,
    "start_time": "2023-04-04T04:09:09.075Z"
   },
   {
    "duration": 17,
    "start_time": "2023-04-04T04:09:09.090Z"
   },
   {
    "duration": 27,
    "start_time": "2023-04-04T04:09:09.109Z"
   },
   {
    "duration": 31,
    "start_time": "2023-04-04T04:09:09.137Z"
   },
   {
    "duration": 234,
    "start_time": "2023-04-04T04:09:09.169Z"
   },
   {
    "duration": 199,
    "start_time": "2023-04-04T04:09:09.405Z"
   },
   {
    "duration": 30,
    "start_time": "2023-04-04T04:09:09.606Z"
   },
   {
    "duration": 6,
    "start_time": "2023-04-04T04:09:09.638Z"
   },
   {
    "duration": 46,
    "start_time": "2023-04-04T04:09:09.645Z"
   },
   {
    "duration": 104,
    "start_time": "2023-04-04T04:09:09.693Z"
   },
   {
    "duration": 40,
    "start_time": "2023-04-04T04:09:09.799Z"
   },
   {
    "duration": 26,
    "start_time": "2023-04-04T04:09:09.841Z"
   },
   {
    "duration": 40,
    "start_time": "2023-04-04T04:09:09.868Z"
   },
   {
    "duration": 187,
    "start_time": "2023-04-04T04:09:09.909Z"
   },
   {
    "duration": 59,
    "start_time": "2023-04-04T04:09:10.098Z"
   },
   {
    "duration": 7,
    "start_time": "2023-04-04T04:09:10.159Z"
   },
   {
    "duration": 21,
    "start_time": "2023-04-04T04:09:10.167Z"
   },
   {
    "duration": 14,
    "start_time": "2023-04-04T04:09:10.189Z"
   },
   {
    "duration": 179,
    "start_time": "2023-04-04T04:09:10.204Z"
   },
   {
    "duration": 3,
    "start_time": "2023-04-04T04:09:10.384Z"
   },
   {
    "duration": 60,
    "start_time": "2023-04-04T04:09:10.389Z"
   },
   {
    "duration": 79,
    "start_time": "2023-04-04T04:09:10.451Z"
   },
   {
    "duration": 0,
    "start_time": "2023-04-04T04:09:10.532Z"
   },
   {
    "duration": 0,
    "start_time": "2023-04-04T04:09:10.533Z"
   },
   {
    "duration": 0,
    "start_time": "2023-04-04T04:09:10.534Z"
   },
   {
    "duration": 0,
    "start_time": "2023-04-04T04:09:10.535Z"
   },
   {
    "duration": 0,
    "start_time": "2023-04-04T04:09:10.537Z"
   },
   {
    "duration": 0,
    "start_time": "2023-04-04T04:09:10.538Z"
   },
   {
    "duration": 0,
    "start_time": "2023-04-04T04:09:10.540Z"
   },
   {
    "duration": 3,
    "start_time": "2023-04-04T04:09:19.535Z"
   },
   {
    "duration": 225,
    "start_time": "2023-04-04T04:09:19.541Z"
   },
   {
    "duration": 19,
    "start_time": "2023-04-04T04:09:19.768Z"
   },
   {
    "duration": 51,
    "start_time": "2023-04-04T04:09:19.790Z"
   },
   {
    "duration": 11,
    "start_time": "2023-04-04T04:09:19.844Z"
   },
   {
    "duration": 29,
    "start_time": "2023-04-04T04:09:19.857Z"
   },
   {
    "duration": 6,
    "start_time": "2023-04-04T04:09:19.888Z"
   },
   {
    "duration": 49,
    "start_time": "2023-04-04T04:09:19.896Z"
   },
   {
    "duration": 55,
    "start_time": "2023-04-04T04:09:19.947Z"
   },
   {
    "duration": 121,
    "start_time": "2023-04-04T04:09:20.004Z"
   },
   {
    "duration": 9,
    "start_time": "2023-04-04T04:09:20.134Z"
   },
   {
    "duration": 106,
    "start_time": "2023-04-04T04:09:20.144Z"
   },
   {
    "duration": 32,
    "start_time": "2023-04-04T04:09:20.252Z"
   },
   {
    "duration": 16,
    "start_time": "2023-04-04T04:09:20.287Z"
   },
   {
    "duration": 56,
    "start_time": "2023-04-04T04:09:20.304Z"
   },
   {
    "duration": 14,
    "start_time": "2023-04-04T04:09:20.362Z"
   },
   {
    "duration": 43,
    "start_time": "2023-04-04T04:09:20.378Z"
   },
   {
    "duration": 230,
    "start_time": "2023-04-04T04:09:20.434Z"
   },
   {
    "duration": 215,
    "start_time": "2023-04-04T04:09:20.666Z"
   },
   {
    "duration": 32,
    "start_time": "2023-04-04T04:09:20.883Z"
   },
   {
    "duration": 20,
    "start_time": "2023-04-04T04:09:20.917Z"
   },
   {
    "duration": 58,
    "start_time": "2023-04-04T04:09:20.939Z"
   },
   {
    "duration": 97,
    "start_time": "2023-04-04T04:09:20.999Z"
   },
   {
    "duration": 42,
    "start_time": "2023-04-04T04:09:21.098Z"
   },
   {
    "duration": 27,
    "start_time": "2023-04-04T04:09:21.142Z"
   },
   {
    "duration": 37,
    "start_time": "2023-04-04T04:09:21.171Z"
   },
   {
    "duration": 224,
    "start_time": "2023-04-04T04:09:21.210Z"
   },
   {
    "duration": 55,
    "start_time": "2023-04-04T04:09:21.436Z"
   },
   {
    "duration": 6,
    "start_time": "2023-04-04T04:09:21.493Z"
   },
   {
    "duration": 39,
    "start_time": "2023-04-04T04:09:21.501Z"
   },
   {
    "duration": 15,
    "start_time": "2023-04-04T04:09:21.542Z"
   },
   {
    "duration": 278,
    "start_time": "2023-04-04T04:09:21.559Z"
   },
   {
    "duration": 3,
    "start_time": "2023-04-04T04:09:21.839Z"
   },
   {
    "duration": 11,
    "start_time": "2023-04-04T04:09:21.843Z"
   },
   {
    "duration": 43,
    "start_time": "2023-04-04T04:09:21.856Z"
   },
   {
    "duration": 0,
    "start_time": "2023-04-04T04:09:21.901Z"
   },
   {
    "duration": 0,
    "start_time": "2023-04-04T04:09:21.902Z"
   },
   {
    "duration": 11,
    "start_time": "2023-04-04T04:12:41.536Z"
   },
   {
    "duration": 135,
    "start_time": "2023-04-04T04:14:06.515Z"
   },
   {
    "duration": 149,
    "start_time": "2023-04-04T04:16:08.966Z"
   },
   {
    "duration": 134,
    "start_time": "2023-04-04T04:16:32.624Z"
   },
   {
    "duration": 132,
    "start_time": "2023-04-04T04:17:10.585Z"
   },
   {
    "duration": 133,
    "start_time": "2023-04-04T04:17:33.915Z"
   },
   {
    "duration": 352,
    "start_time": "2023-04-04T04:18:22.779Z"
   },
   {
    "duration": 54,
    "start_time": "2023-04-04T04:19:43.196Z"
   },
   {
    "duration": 48,
    "start_time": "2023-04-04T04:19:44.578Z"
   },
   {
    "duration": 40,
    "start_time": "2023-04-04T04:23:53.866Z"
   },
   {
    "duration": 41,
    "start_time": "2023-04-04T04:23:58.630Z"
   },
   {
    "duration": 3,
    "start_time": "2023-04-04T04:24:12.164Z"
   },
   {
    "duration": 4,
    "start_time": "2023-04-04T04:24:24.845Z"
   },
   {
    "duration": 228,
    "start_time": "2023-04-04T04:24:24.851Z"
   },
   {
    "duration": 13,
    "start_time": "2023-04-04T04:24:25.080Z"
   },
   {
    "duration": 33,
    "start_time": "2023-04-04T04:24:25.095Z"
   },
   {
    "duration": 19,
    "start_time": "2023-04-04T04:24:25.135Z"
   },
   {
    "duration": 16,
    "start_time": "2023-04-04T04:24:25.156Z"
   },
   {
    "duration": 6,
    "start_time": "2023-04-04T04:24:25.174Z"
   },
   {
    "duration": 19,
    "start_time": "2023-04-04T04:24:25.181Z"
   },
   {
    "duration": 67,
    "start_time": "2023-04-04T04:24:25.202Z"
   },
   {
    "duration": 124,
    "start_time": "2023-04-04T04:24:25.271Z"
   },
   {
    "duration": 9,
    "start_time": "2023-04-04T04:24:25.396Z"
   },
   {
    "duration": 115,
    "start_time": "2023-04-04T04:24:25.406Z"
   },
   {
    "duration": 42,
    "start_time": "2023-04-04T04:24:25.522Z"
   },
   {
    "duration": 13,
    "start_time": "2023-04-04T04:24:25.567Z"
   },
   {
    "duration": 16,
    "start_time": "2023-04-04T04:24:25.582Z"
   },
   {
    "duration": 6,
    "start_time": "2023-04-04T04:24:25.600Z"
   },
   {
    "duration": 55,
    "start_time": "2023-04-04T04:24:25.608Z"
   },
   {
    "duration": 217,
    "start_time": "2023-04-04T04:24:25.664Z"
   },
   {
    "duration": 206,
    "start_time": "2023-04-04T04:24:25.882Z"
   },
   {
    "duration": 20,
    "start_time": "2023-04-04T04:24:26.090Z"
   },
   {
    "duration": 10,
    "start_time": "2023-04-04T04:24:26.111Z"
   },
   {
    "duration": 83,
    "start_time": "2023-04-04T04:24:26.122Z"
   },
   {
    "duration": 89,
    "start_time": "2023-04-04T04:24:26.207Z"
   },
   {
    "duration": 52,
    "start_time": "2023-04-04T04:24:26.298Z"
   },
   {
    "duration": 32,
    "start_time": "2023-04-04T04:24:26.353Z"
   },
   {
    "duration": 36,
    "start_time": "2023-04-04T04:24:26.386Z"
   },
   {
    "duration": 186,
    "start_time": "2023-04-04T04:24:26.424Z"
   },
   {
    "duration": 61,
    "start_time": "2023-04-04T04:24:26.612Z"
   },
   {
    "duration": 8,
    "start_time": "2023-04-04T04:24:26.674Z"
   },
   {
    "duration": 24,
    "start_time": "2023-04-04T04:24:26.683Z"
   },
   {
    "duration": 48,
    "start_time": "2023-04-04T04:24:26.709Z"
   },
   {
    "duration": 154,
    "start_time": "2023-04-04T04:24:26.758Z"
   },
   {
    "duration": 44,
    "start_time": "2023-04-04T04:24:31.034Z"
   },
   {
    "duration": 43,
    "start_time": "2023-04-04T04:24:35.345Z"
   },
   {
    "duration": 347,
    "start_time": "2023-04-04T04:25:54.665Z"
   },
   {
    "duration": 3,
    "start_time": "2023-04-04T04:26:08.032Z"
   },
   {
    "duration": 234,
    "start_time": "2023-04-04T04:26:08.037Z"
   },
   {
    "duration": 13,
    "start_time": "2023-04-04T04:26:08.273Z"
   },
   {
    "duration": 31,
    "start_time": "2023-04-04T04:26:08.288Z"
   },
   {
    "duration": 19,
    "start_time": "2023-04-04T04:26:08.321Z"
   },
   {
    "duration": 21,
    "start_time": "2023-04-04T04:26:08.341Z"
   },
   {
    "duration": 9,
    "start_time": "2023-04-04T04:26:08.363Z"
   },
   {
    "duration": 18,
    "start_time": "2023-04-04T04:26:08.373Z"
   },
   {
    "duration": 67,
    "start_time": "2023-04-04T04:26:08.393Z"
   },
   {
    "duration": 117,
    "start_time": "2023-04-04T04:26:08.463Z"
   },
   {
    "duration": 9,
    "start_time": "2023-04-04T04:26:08.582Z"
   },
   {
    "duration": 107,
    "start_time": "2023-04-04T04:26:08.592Z"
   },
   {
    "duration": 36,
    "start_time": "2023-04-04T04:26:08.700Z"
   },
   {
    "duration": 16,
    "start_time": "2023-04-04T04:26:08.738Z"
   },
   {
    "duration": 19,
    "start_time": "2023-04-04T04:26:08.756Z"
   },
   {
    "duration": 8,
    "start_time": "2023-04-04T04:26:08.776Z"
   },
   {
    "duration": 53,
    "start_time": "2023-04-04T04:26:08.785Z"
   },
   {
    "duration": 204,
    "start_time": "2023-04-04T04:26:08.840Z"
   },
   {
    "duration": 191,
    "start_time": "2023-04-04T04:26:09.045Z"
   },
   {
    "duration": 24,
    "start_time": "2023-04-04T04:26:09.238Z"
   },
   {
    "duration": 6,
    "start_time": "2023-04-04T04:26:09.264Z"
   },
   {
    "duration": 36,
    "start_time": "2023-04-04T04:26:09.271Z"
   },
   {
    "duration": 100,
    "start_time": "2023-04-04T04:26:09.309Z"
   },
   {
    "duration": 38,
    "start_time": "2023-04-04T04:26:09.411Z"
   },
   {
    "duration": 26,
    "start_time": "2023-04-04T04:26:09.450Z"
   },
   {
    "duration": 35,
    "start_time": "2023-04-04T04:26:09.477Z"
   },
   {
    "duration": 181,
    "start_time": "2023-04-04T04:26:09.513Z"
   },
   {
    "duration": 57,
    "start_time": "2023-04-04T04:26:09.697Z"
   },
   {
    "duration": 6,
    "start_time": "2023-04-04T04:26:09.756Z"
   },
   {
    "duration": 20,
    "start_time": "2023-04-04T04:26:09.763Z"
   },
   {
    "duration": 14,
    "start_time": "2023-04-04T04:26:09.785Z"
   },
   {
    "duration": 179,
    "start_time": "2023-04-04T04:26:09.801Z"
   },
   {
    "duration": 8,
    "start_time": "2023-04-04T04:26:09.982Z"
   },
   {
    "duration": 50,
    "start_time": "2023-04-04T04:26:09.991Z"
   },
   {
    "duration": 39,
    "start_time": "2023-04-04T04:26:10.042Z"
   },
   {
    "duration": 53,
    "start_time": "2023-04-04T04:26:10.082Z"
   },
   {
    "duration": 8,
    "start_time": "2023-04-04T04:26:10.136Z"
   },
   {
    "duration": 154,
    "start_time": "2023-04-04T04:26:10.145Z"
   },
   {
    "duration": 138,
    "start_time": "2023-04-04T04:26:10.300Z"
   },
   {
    "duration": 141,
    "start_time": "2023-04-04T04:26:10.440Z"
   },
   {
    "duration": 342,
    "start_time": "2023-04-04T04:26:10.583Z"
   },
   {
    "duration": 147,
    "start_time": "2023-04-04T04:26:10.926Z"
   },
   {
    "duration": 133,
    "start_time": "2023-04-04T04:26:11.074Z"
   },
   {
    "duration": 147,
    "start_time": "2023-04-04T04:26:11.209Z"
   },
   {
    "duration": 351,
    "start_time": "2023-04-04T04:26:11.357Z"
   },
   {
    "duration": 142,
    "start_time": "2023-04-04T04:26:11.709Z"
   },
   {
    "duration": 142,
    "start_time": "2023-04-04T04:26:11.852Z"
   },
   {
    "duration": 144,
    "start_time": "2023-04-04T04:26:11.996Z"
   },
   {
    "duration": 369,
    "start_time": "2023-04-04T04:26:12.141Z"
   },
   {
    "duration": 156,
    "start_time": "2023-04-04T04:26:12.512Z"
   },
   {
    "duration": 139,
    "start_time": "2023-04-04T04:26:12.669Z"
   },
   {
    "duration": 138,
    "start_time": "2023-04-04T04:26:12.809Z"
   },
   {
    "duration": 362,
    "start_time": "2023-04-04T04:26:12.949Z"
   },
   {
    "duration": 153,
    "start_time": "2023-04-04T04:26:13.313Z"
   },
   {
    "duration": 144,
    "start_time": "2023-04-04T04:26:13.468Z"
   },
   {
    "duration": 153,
    "start_time": "2023-04-04T04:26:13.614Z"
   },
   {
    "duration": 356,
    "start_time": "2023-04-04T04:26:13.769Z"
   },
   {
    "duration": 138,
    "start_time": "2023-04-04T04:26:14.134Z"
   },
   {
    "duration": 138,
    "start_time": "2023-04-04T04:26:14.273Z"
   },
   {
    "duration": 142,
    "start_time": "2023-04-04T04:26:14.412Z"
   },
   {
    "duration": 390,
    "start_time": "2023-04-04T04:26:14.556Z"
   },
   {
    "duration": 141,
    "start_time": "2023-04-04T04:26:14.947Z"
   },
   {
    "duration": 148,
    "start_time": "2023-04-04T04:26:15.089Z"
   },
   {
    "duration": 148,
    "start_time": "2023-04-04T04:26:15.238Z"
   },
   {
    "duration": 381,
    "start_time": "2023-04-04T04:26:15.388Z"
   },
   {
    "duration": 46,
    "start_time": "2023-04-04T04:26:18.394Z"
   },
   {
    "duration": 3,
    "start_time": "2023-04-04T04:27:13.104Z"
   },
   {
    "duration": 210,
    "start_time": "2023-04-04T04:27:13.109Z"
   },
   {
    "duration": 15,
    "start_time": "2023-04-04T04:27:13.321Z"
   },
   {
    "duration": 22,
    "start_time": "2023-04-04T04:27:13.338Z"
   },
   {
    "duration": 8,
    "start_time": "2023-04-04T04:27:13.362Z"
   },
   {
    "duration": 18,
    "start_time": "2023-04-04T04:27:13.371Z"
   },
   {
    "duration": 7,
    "start_time": "2023-04-04T04:27:13.390Z"
   },
   {
    "duration": 53,
    "start_time": "2023-04-04T04:27:13.398Z"
   },
   {
    "duration": 53,
    "start_time": "2023-04-04T04:27:13.453Z"
   },
   {
    "duration": 123,
    "start_time": "2023-04-04T04:27:13.507Z"
   },
   {
    "duration": 10,
    "start_time": "2023-04-04T04:27:13.635Z"
   },
   {
    "duration": 121,
    "start_time": "2023-04-04T04:27:13.647Z"
   },
   {
    "duration": 35,
    "start_time": "2023-04-04T04:27:13.772Z"
   },
   {
    "duration": 28,
    "start_time": "2023-04-04T04:27:13.808Z"
   },
   {
    "duration": 16,
    "start_time": "2023-04-04T04:27:13.838Z"
   },
   {
    "duration": 6,
    "start_time": "2023-04-04T04:27:13.855Z"
   },
   {
    "duration": 26,
    "start_time": "2023-04-04T04:27:13.862Z"
   },
   {
    "duration": 229,
    "start_time": "2023-04-04T04:27:13.889Z"
   },
   {
    "duration": 208,
    "start_time": "2023-04-04T04:27:14.120Z"
   },
   {
    "duration": 20,
    "start_time": "2023-04-04T04:27:14.334Z"
   },
   {
    "duration": 5,
    "start_time": "2023-04-04T04:27:14.356Z"
   },
   {
    "duration": 34,
    "start_time": "2023-04-04T04:27:14.363Z"
   },
   {
    "duration": 95,
    "start_time": "2023-04-04T04:27:14.398Z"
   },
   {
    "duration": 30,
    "start_time": "2023-04-04T04:27:14.495Z"
   },
   {
    "duration": 29,
    "start_time": "2023-04-04T04:27:14.535Z"
   },
   {
    "duration": 43,
    "start_time": "2023-04-04T04:27:14.566Z"
   },
   {
    "duration": 217,
    "start_time": "2023-04-04T04:27:14.611Z"
   },
   {
    "duration": 54,
    "start_time": "2023-04-04T04:27:14.829Z"
   },
   {
    "duration": 7,
    "start_time": "2023-04-04T04:27:14.885Z"
   },
   {
    "duration": 41,
    "start_time": "2023-04-04T04:27:14.893Z"
   },
   {
    "duration": 15,
    "start_time": "2023-04-04T04:27:14.936Z"
   },
   {
    "duration": 282,
    "start_time": "2023-04-04T04:27:14.953Z"
   },
   {
    "duration": 8,
    "start_time": "2023-04-04T04:27:15.237Z"
   },
   {
    "duration": 37,
    "start_time": "2023-04-04T04:27:15.247Z"
   },
   {
    "duration": 8,
    "start_time": "2023-04-04T04:27:15.287Z"
   },
   {
    "duration": 183,
    "start_time": "2023-04-04T04:27:15.297Z"
   },
   {
    "duration": 138,
    "start_time": "2023-04-04T04:27:15.485Z"
   },
   {
    "duration": 157,
    "start_time": "2023-04-04T04:27:15.624Z"
   },
   {
    "duration": 345,
    "start_time": "2023-04-04T04:27:15.783Z"
   },
   {
    "duration": 138,
    "start_time": "2023-04-04T04:27:16.134Z"
   },
   {
    "duration": 160,
    "start_time": "2023-04-04T04:27:16.274Z"
   },
   {
    "duration": 150,
    "start_time": "2023-04-04T04:27:16.436Z"
   },
   {
    "duration": 349,
    "start_time": "2023-04-04T04:27:16.588Z"
   },
   {
    "duration": 145,
    "start_time": "2023-04-04T04:27:16.938Z"
   },
   {
    "duration": 157,
    "start_time": "2023-04-04T04:27:17.085Z"
   },
   {
    "duration": 146,
    "start_time": "2023-04-04T04:27:17.244Z"
   },
   {
    "duration": 316,
    "start_time": "2023-04-04T04:27:17.392Z"
   },
   {
    "duration": 147,
    "start_time": "2023-04-04T04:27:17.710Z"
   },
   {
    "duration": 139,
    "start_time": "2023-04-04T04:27:17.858Z"
   },
   {
    "duration": 159,
    "start_time": "2023-04-04T04:27:17.999Z"
   },
   {
    "duration": 318,
    "start_time": "2023-04-04T04:27:18.160Z"
   },
   {
    "duration": 139,
    "start_time": "2023-04-04T04:27:18.480Z"
   },
   {
    "duration": 157,
    "start_time": "2023-04-04T04:27:18.621Z"
   },
   {
    "duration": 131,
    "start_time": "2023-04-04T04:27:18.780Z"
   },
   {
    "duration": 331,
    "start_time": "2023-04-04T04:27:18.913Z"
   },
   {
    "duration": 145,
    "start_time": "2023-04-04T04:27:19.246Z"
   },
   {
    "duration": 151,
    "start_time": "2023-04-04T04:27:19.392Z"
   },
   {
    "duration": 146,
    "start_time": "2023-04-04T04:27:19.545Z"
   },
   {
    "duration": 371,
    "start_time": "2023-04-04T04:27:19.693Z"
   },
   {
    "duration": 154,
    "start_time": "2023-04-04T04:27:20.066Z"
   },
   {
    "duration": 155,
    "start_time": "2023-04-04T04:27:20.222Z"
   },
   {
    "duration": 159,
    "start_time": "2023-04-04T04:27:20.378Z"
   },
   {
    "duration": 361,
    "start_time": "2023-04-04T04:27:20.539Z"
   },
   {
    "duration": 3,
    "start_time": "2023-04-04T04:28:03.326Z"
   },
   {
    "duration": 224,
    "start_time": "2023-04-04T04:28:03.332Z"
   },
   {
    "duration": 12,
    "start_time": "2023-04-04T04:28:03.558Z"
   },
   {
    "duration": 23,
    "start_time": "2023-04-04T04:28:03.572Z"
   },
   {
    "duration": 8,
    "start_time": "2023-04-04T04:28:03.598Z"
   },
   {
    "duration": 18,
    "start_time": "2023-04-04T04:28:03.635Z"
   },
   {
    "duration": 8,
    "start_time": "2023-04-04T04:28:03.654Z"
   },
   {
    "duration": 21,
    "start_time": "2023-04-04T04:28:03.663Z"
   },
   {
    "duration": 65,
    "start_time": "2023-04-04T04:28:03.685Z"
   },
   {
    "duration": 98,
    "start_time": "2023-04-04T04:28:03.752Z"
   },
   {
    "duration": 9,
    "start_time": "2023-04-04T04:28:03.851Z"
   },
   {
    "duration": 110,
    "start_time": "2023-04-04T04:28:03.861Z"
   },
   {
    "duration": 31,
    "start_time": "2023-04-04T04:28:03.974Z"
   },
   {
    "duration": 29,
    "start_time": "2023-04-04T04:28:04.006Z"
   },
   {
    "duration": 17,
    "start_time": "2023-04-04T04:28:04.036Z"
   },
   {
    "duration": 7,
    "start_time": "2023-04-04T04:28:04.054Z"
   },
   {
    "duration": 26,
    "start_time": "2023-04-04T04:28:04.062Z"
   },
   {
    "duration": 216,
    "start_time": "2023-04-04T04:28:04.090Z"
   },
   {
    "duration": 187,
    "start_time": "2023-04-04T04:28:04.307Z"
   },
   {
    "duration": 20,
    "start_time": "2023-04-04T04:28:04.496Z"
   },
   {
    "duration": 18,
    "start_time": "2023-04-04T04:28:04.517Z"
   },
   {
    "duration": 43,
    "start_time": "2023-04-04T04:28:04.537Z"
   },
   {
    "duration": 113,
    "start_time": "2023-04-04T04:28:04.582Z"
   },
   {
    "duration": 43,
    "start_time": "2023-04-04T04:28:04.697Z"
   },
   {
    "duration": 29,
    "start_time": "2023-04-04T04:28:04.742Z"
   },
   {
    "duration": 37,
    "start_time": "2023-04-04T04:28:04.772Z"
   },
   {
    "duration": 184,
    "start_time": "2023-04-04T04:28:04.811Z"
   },
   {
    "duration": 63,
    "start_time": "2023-04-04T04:28:04.997Z"
   },
   {
    "duration": 7,
    "start_time": "2023-04-04T04:28:05.061Z"
   },
   {
    "duration": 31,
    "start_time": "2023-04-04T04:28:05.069Z"
   },
   {
    "duration": 13,
    "start_time": "2023-04-04T04:28:05.102Z"
   },
   {
    "duration": 173,
    "start_time": "2023-04-04T04:28:05.117Z"
   },
   {
    "duration": 9,
    "start_time": "2023-04-04T04:28:05.292Z"
   },
   {
    "duration": 56,
    "start_time": "2023-04-04T04:28:05.303Z"
   },
   {
    "duration": 42,
    "start_time": "2023-04-04T04:28:05.361Z"
   },
   {
    "duration": 49,
    "start_time": "2023-04-04T04:28:05.404Z"
   },
   {
    "duration": 8,
    "start_time": "2023-04-04T04:28:05.457Z"
   },
   {
    "duration": 140,
    "start_time": "2023-04-04T04:28:05.467Z"
   },
   {
    "duration": 136,
    "start_time": "2023-04-04T04:28:05.609Z"
   },
   {
    "duration": 136,
    "start_time": "2023-04-04T04:28:05.746Z"
   },
   {
    "duration": 322,
    "start_time": "2023-04-04T04:28:05.883Z"
   },
   {
    "duration": 139,
    "start_time": "2023-04-04T04:28:06.207Z"
   },
   {
    "duration": 137,
    "start_time": "2023-04-04T04:28:06.348Z"
   },
   {
    "duration": 138,
    "start_time": "2023-04-04T04:28:06.486Z"
   },
   {
    "duration": 329,
    "start_time": "2023-04-04T04:28:06.626Z"
   },
   {
    "duration": 134,
    "start_time": "2023-04-04T04:28:06.957Z"
   },
   {
    "duration": 130,
    "start_time": "2023-04-04T04:28:07.093Z"
   },
   {
    "duration": 135,
    "start_time": "2023-04-04T04:28:07.225Z"
   },
   {
    "duration": 324,
    "start_time": "2023-04-04T04:28:07.362Z"
   },
   {
    "duration": 130,
    "start_time": "2023-04-04T04:28:07.687Z"
   },
   {
    "duration": 136,
    "start_time": "2023-04-04T04:28:07.819Z"
   },
   {
    "duration": 136,
    "start_time": "2023-04-04T04:28:07.957Z"
   },
   {
    "duration": 320,
    "start_time": "2023-04-04T04:28:08.095Z"
   },
   {
    "duration": 137,
    "start_time": "2023-04-04T04:28:08.416Z"
   },
   {
    "duration": 143,
    "start_time": "2023-04-04T04:28:08.554Z"
   },
   {
    "duration": 138,
    "start_time": "2023-04-04T04:28:08.699Z"
   },
   {
    "duration": 323,
    "start_time": "2023-04-04T04:28:08.839Z"
   },
   {
    "duration": 130,
    "start_time": "2023-04-04T04:28:09.164Z"
   },
   {
    "duration": 141,
    "start_time": "2023-04-04T04:28:09.296Z"
   },
   {
    "duration": 132,
    "start_time": "2023-04-04T04:28:09.439Z"
   },
   {
    "duration": 340,
    "start_time": "2023-04-04T04:28:09.572Z"
   },
   {
    "duration": 157,
    "start_time": "2023-04-04T04:28:09.914Z"
   },
   {
    "duration": 145,
    "start_time": "2023-04-04T04:28:10.072Z"
   },
   {
    "duration": 141,
    "start_time": "2023-04-04T04:28:10.219Z"
   },
   {
    "duration": 325,
    "start_time": "2023-04-04T04:28:10.362Z"
   },
   {
    "duration": 1295,
    "start_time": "2023-04-04T06:51:10.412Z"
   },
   {
    "duration": 309,
    "start_time": "2023-04-04T06:51:11.709Z"
   },
   {
    "duration": 20,
    "start_time": "2023-04-04T06:51:12.021Z"
   },
   {
    "duration": 23,
    "start_time": "2023-04-04T06:51:12.044Z"
   },
   {
    "duration": 35,
    "start_time": "2023-04-04T06:51:12.069Z"
   },
   {
    "duration": 20,
    "start_time": "2023-04-04T06:51:12.105Z"
   },
   {
    "duration": 25,
    "start_time": "2023-04-04T06:51:12.126Z"
   },
   {
    "duration": 19,
    "start_time": "2023-04-04T06:51:12.153Z"
   },
   {
    "duration": 74,
    "start_time": "2023-04-04T06:51:12.173Z"
   },
   {
    "duration": 130,
    "start_time": "2023-04-04T06:51:12.250Z"
   },
   {
    "duration": 10,
    "start_time": "2023-04-04T06:51:12.382Z"
   },
   {
    "duration": 110,
    "start_time": "2023-04-04T06:51:12.402Z"
   },
   {
    "duration": 33,
    "start_time": "2023-04-04T06:51:12.514Z"
   },
   {
    "duration": 14,
    "start_time": "2023-04-04T06:51:12.550Z"
   },
   {
    "duration": 40,
    "start_time": "2023-04-04T06:51:12.566Z"
   },
   {
    "duration": 8,
    "start_time": "2023-04-04T06:51:12.608Z"
   },
   {
    "duration": 40,
    "start_time": "2023-04-04T06:51:12.617Z"
   },
   {
    "duration": 232,
    "start_time": "2023-04-04T06:51:12.658Z"
   },
   {
    "duration": 301,
    "start_time": "2023-04-04T06:51:12.891Z"
   },
   {
    "duration": 26,
    "start_time": "2023-04-04T06:51:13.194Z"
   },
   {
    "duration": 7,
    "start_time": "2023-04-04T06:51:13.222Z"
   },
   {
    "duration": 47,
    "start_time": "2023-04-04T06:51:13.231Z"
   },
   {
    "duration": 123,
    "start_time": "2023-04-04T06:51:13.280Z"
   },
   {
    "duration": 34,
    "start_time": "2023-04-04T06:51:13.405Z"
   },
   {
    "duration": 29,
    "start_time": "2023-04-04T06:51:13.441Z"
   },
   {
    "duration": 64,
    "start_time": "2023-04-04T06:51:13.472Z"
   },
   {
    "duration": 205,
    "start_time": "2023-04-04T06:51:13.537Z"
   },
   {
    "duration": 65,
    "start_time": "2023-04-04T06:51:13.744Z"
   },
   {
    "duration": 7,
    "start_time": "2023-04-04T06:51:13.811Z"
   },
   {
    "duration": 37,
    "start_time": "2023-04-04T06:51:13.820Z"
   },
   {
    "duration": 16,
    "start_time": "2023-04-04T06:51:13.859Z"
   },
   {
    "duration": 207,
    "start_time": "2023-04-04T06:51:13.877Z"
   },
   {
    "duration": 18,
    "start_time": "2023-04-04T06:51:14.086Z"
   },
   {
    "duration": 658,
    "start_time": "2023-04-04T06:51:14.105Z"
   },
   {
    "duration": 46,
    "start_time": "2023-04-04T06:51:14.765Z"
   },
   {
    "duration": 35,
    "start_time": "2023-04-04T06:51:14.813Z"
   },
   {
    "duration": 8,
    "start_time": "2023-04-04T06:51:14.850Z"
   },
   {
    "duration": 180,
    "start_time": "2023-04-04T06:51:14.859Z"
   },
   {
    "duration": 151,
    "start_time": "2023-04-04T06:51:15.040Z"
   },
   {
    "duration": 150,
    "start_time": "2023-04-04T06:51:15.192Z"
   },
   {
    "duration": 532,
    "start_time": "2023-04-04T06:51:15.346Z"
   },
   {
    "duration": 187,
    "start_time": "2023-04-04T06:51:15.880Z"
   },
   {
    "duration": 166,
    "start_time": "2023-04-04T06:51:16.069Z"
   },
   {
    "duration": 151,
    "start_time": "2023-04-04T06:51:16.236Z"
   },
   {
    "duration": 387,
    "start_time": "2023-04-04T06:51:16.389Z"
   },
   {
    "duration": 152,
    "start_time": "2023-04-04T06:51:16.777Z"
   },
   {
    "duration": 175,
    "start_time": "2023-04-04T06:51:16.930Z"
   },
   {
    "duration": 149,
    "start_time": "2023-04-04T06:51:17.107Z"
   },
   {
    "duration": 377,
    "start_time": "2023-04-04T06:51:17.259Z"
   },
   {
    "duration": 151,
    "start_time": "2023-04-04T06:51:17.638Z"
   },
   {
    "duration": 151,
    "start_time": "2023-04-04T06:51:17.791Z"
   },
   {
    "duration": 162,
    "start_time": "2023-04-04T06:51:17.943Z"
   },
   {
    "duration": 344,
    "start_time": "2023-04-04T06:51:18.107Z"
   },
   {
    "duration": 142,
    "start_time": "2023-04-04T06:51:18.453Z"
   },
   {
    "duration": 141,
    "start_time": "2023-04-04T06:51:18.603Z"
   },
   {
    "duration": 136,
    "start_time": "2023-04-04T06:51:18.745Z"
   },
   {
    "duration": 389,
    "start_time": "2023-04-04T06:51:18.883Z"
   },
   {
    "duration": 157,
    "start_time": "2023-04-04T06:51:19.274Z"
   },
   {
    "duration": 152,
    "start_time": "2023-04-04T06:51:19.432Z"
   },
   {
    "duration": 160,
    "start_time": "2023-04-04T06:51:19.586Z"
   },
   {
    "duration": 370,
    "start_time": "2023-04-04T06:51:19.747Z"
   },
   {
    "duration": 146,
    "start_time": "2023-04-04T06:51:20.119Z"
   },
   {
    "duration": 154,
    "start_time": "2023-04-04T06:51:20.267Z"
   },
   {
    "duration": 149,
    "start_time": "2023-04-04T06:51:20.423Z"
   },
   {
    "duration": 369,
    "start_time": "2023-04-04T06:51:20.574Z"
   },
   {
    "duration": 64,
    "start_time": "2023-04-04T13:30:48.878Z"
   },
   {
    "duration": 1482,
    "start_time": "2023-04-04T13:30:52.289Z"
   },
   {
    "duration": 835,
    "start_time": "2023-04-04T13:30:53.773Z"
   },
   {
    "duration": 20,
    "start_time": "2023-04-04T13:30:54.610Z"
   },
   {
    "duration": 22,
    "start_time": "2023-04-04T13:30:54.632Z"
   },
   {
    "duration": 12,
    "start_time": "2023-04-04T13:30:54.656Z"
   },
   {
    "duration": 24,
    "start_time": "2023-04-04T13:30:54.670Z"
   },
   {
    "duration": 19,
    "start_time": "2023-04-04T13:30:54.696Z"
   },
   {
    "duration": 46,
    "start_time": "2023-04-04T13:30:54.717Z"
   },
   {
    "duration": 76,
    "start_time": "2023-04-04T13:30:54.766Z"
   },
   {
    "duration": 172,
    "start_time": "2023-04-04T13:30:54.844Z"
   },
   {
    "duration": 11,
    "start_time": "2023-04-04T13:30:55.018Z"
   },
   {
    "duration": 117,
    "start_time": "2023-04-04T13:30:55.031Z"
   },
   {
    "duration": 45,
    "start_time": "2023-04-04T13:30:55.150Z"
   },
   {
    "duration": 15,
    "start_time": "2023-04-04T13:30:55.198Z"
   },
   {
    "duration": 21,
    "start_time": "2023-04-04T13:30:55.215Z"
   },
   {
    "duration": 8,
    "start_time": "2023-04-04T13:30:55.262Z"
   },
   {
    "duration": 36,
    "start_time": "2023-04-04T13:30:55.272Z"
   },
   {
    "duration": 229,
    "start_time": "2023-04-04T13:30:55.310Z"
   },
   {
    "duration": 299,
    "start_time": "2023-04-04T13:30:55.541Z"
   },
   {
    "duration": 29,
    "start_time": "2023-04-04T13:30:55.841Z"
   },
   {
    "duration": 7,
    "start_time": "2023-04-04T13:30:55.872Z"
   },
   {
    "duration": 55,
    "start_time": "2023-04-04T13:30:55.881Z"
   },
   {
    "duration": 128,
    "start_time": "2023-04-04T13:30:55.938Z"
   },
   {
    "duration": 41,
    "start_time": "2023-04-04T13:30:56.068Z"
   },
   {
    "duration": 55,
    "start_time": "2023-04-04T13:30:56.112Z"
   },
   {
    "duration": 53,
    "start_time": "2023-04-04T13:30:56.169Z"
   },
   {
    "duration": 231,
    "start_time": "2023-04-04T13:30:56.223Z"
   },
   {
    "duration": 61,
    "start_time": "2023-04-04T13:30:56.456Z"
   },
   {
    "duration": 7,
    "start_time": "2023-04-04T13:30:56.519Z"
   },
   {
    "duration": 45,
    "start_time": "2023-04-04T13:30:56.528Z"
   },
   {
    "duration": 19,
    "start_time": "2023-04-04T13:30:56.575Z"
   },
   {
    "duration": 196,
    "start_time": "2023-04-04T13:30:56.596Z"
   },
   {
    "duration": 11,
    "start_time": "2023-04-04T13:30:56.794Z"
   },
   {
    "duration": 1567,
    "start_time": "2023-04-04T13:30:56.807Z"
   },
   {
    "duration": 100,
    "start_time": "2023-04-04T13:30:58.376Z"
   },
   {
    "duration": 50,
    "start_time": "2023-04-04T13:30:58.478Z"
   },
   {
    "duration": 33,
    "start_time": "2023-04-04T13:30:58.531Z"
   },
   {
    "duration": 17,
    "start_time": "2023-04-04T13:31:31.879Z"
   },
   {
    "duration": 20,
    "start_time": "2023-04-04T13:31:36.352Z"
   },
   {
    "duration": 19,
    "start_time": "2023-04-04T13:31:58.042Z"
   },
   {
    "duration": 19,
    "start_time": "2023-04-04T13:32:06.938Z"
   },
   {
    "duration": 21,
    "start_time": "2023-04-04T13:32:20.188Z"
   },
   {
    "duration": 19,
    "start_time": "2023-04-04T13:32:26.732Z"
   },
   {
    "duration": 19,
    "start_time": "2023-04-04T13:32:31.086Z"
   },
   {
    "duration": 107,
    "start_time": "2023-04-04T13:32:44.128Z"
   },
   {
    "duration": 101,
    "start_time": "2023-04-04T13:33:12.178Z"
   },
   {
    "duration": 99,
    "start_time": "2023-04-04T13:33:23.329Z"
   },
   {
    "duration": 480,
    "start_time": "2023-04-04T13:33:38.271Z"
   },
   {
    "duration": 109,
    "start_time": "2023-04-04T13:36:59.338Z"
   },
   {
    "duration": 105,
    "start_time": "2023-04-04T13:37:08.823Z"
   },
   {
    "duration": 115,
    "start_time": "2023-04-04T13:37:22.804Z"
   },
   {
    "duration": 339,
    "start_time": "2023-04-04T13:37:42.777Z"
   },
   {
    "duration": 1302,
    "start_time": "2023-04-04T16:29:25.006Z"
   },
   {
    "duration": 771,
    "start_time": "2023-04-04T16:29:26.310Z"
   },
   {
    "duration": 17,
    "start_time": "2023-04-04T16:29:27.082Z"
   },
   {
    "duration": 18,
    "start_time": "2023-04-04T16:29:27.100Z"
   },
   {
    "duration": 7,
    "start_time": "2023-04-04T16:29:27.120Z"
   },
   {
    "duration": 16,
    "start_time": "2023-04-04T16:29:27.129Z"
   },
   {
    "duration": 26,
    "start_time": "2023-04-04T16:29:27.146Z"
   },
   {
    "duration": 15,
    "start_time": "2023-04-04T16:29:27.174Z"
   },
   {
    "duration": 50,
    "start_time": "2023-04-04T16:29:27.191Z"
   },
   {
    "duration": 112,
    "start_time": "2023-04-04T16:29:27.243Z"
   },
   {
    "duration": 17,
    "start_time": "2023-04-04T16:29:27.356Z"
   },
   {
    "duration": 96,
    "start_time": "2023-04-04T16:29:27.375Z"
   },
   {
    "duration": 28,
    "start_time": "2023-04-04T16:29:27.472Z"
   },
   {
    "duration": 11,
    "start_time": "2023-04-04T16:29:27.503Z"
   },
   {
    "duration": 16,
    "start_time": "2023-04-04T16:29:27.516Z"
   },
   {
    "duration": 8,
    "start_time": "2023-04-04T16:29:27.533Z"
   },
   {
    "duration": 42,
    "start_time": "2023-04-04T16:29:27.542Z"
   },
   {
    "duration": 206,
    "start_time": "2023-04-04T16:29:27.586Z"
   },
   {
    "duration": 243,
    "start_time": "2023-04-04T16:29:27.794Z"
   },
   {
    "duration": 18,
    "start_time": "2023-04-04T16:29:28.038Z"
   },
   {
    "duration": 6,
    "start_time": "2023-04-04T16:29:28.068Z"
   },
   {
    "duration": 37,
    "start_time": "2023-04-04T16:29:28.075Z"
   },
   {
    "duration": 94,
    "start_time": "2023-04-04T16:29:28.113Z"
   },
   {
    "duration": 30,
    "start_time": "2023-04-04T16:29:28.208Z"
   },
   {
    "duration": 42,
    "start_time": "2023-04-04T16:29:28.239Z"
   },
   {
    "duration": 38,
    "start_time": "2023-04-04T16:29:28.282Z"
   },
   {
    "duration": 191,
    "start_time": "2023-04-04T16:29:28.321Z"
   },
   {
    "duration": 56,
    "start_time": "2023-04-04T16:29:28.513Z"
   },
   {
    "duration": 6,
    "start_time": "2023-04-04T16:29:28.571Z"
   },
   {
    "duration": 22,
    "start_time": "2023-04-04T16:29:28.578Z"
   },
   {
    "duration": 14,
    "start_time": "2023-04-04T16:29:28.601Z"
   },
   {
    "duration": 178,
    "start_time": "2023-04-04T16:29:28.616Z"
   },
   {
    "duration": 8,
    "start_time": "2023-04-04T16:29:28.795Z"
   },
   {
    "duration": 588,
    "start_time": "2023-04-04T16:29:28.804Z"
   },
   {
    "duration": 79,
    "start_time": "2023-04-04T16:29:29.394Z"
   },
   {
    "duration": 35,
    "start_time": "2023-04-04T16:29:29.475Z"
   },
   {
    "duration": 7,
    "start_time": "2023-04-04T16:29:29.512Z"
   },
   {
    "duration": 59,
    "start_time": "2023-04-04T16:29:29.520Z"
   },
   {
    "duration": 99,
    "start_time": "2023-04-04T16:29:29.581Z"
   },
   {
    "duration": 96,
    "start_time": "2023-04-04T16:29:29.681Z"
   },
   {
    "duration": 94,
    "start_time": "2023-04-04T16:29:29.780Z"
   },
   {
    "duration": 390,
    "start_time": "2023-04-04T16:29:29.875Z"
   },
   {
    "duration": 1898,
    "start_time": "2023-05-28T08:31:07.892Z"
   },
   {
    "duration": 1005,
    "start_time": "2023-05-28T08:31:09.793Z"
   },
   {
    "duration": 26,
    "start_time": "2023-05-28T08:31:10.808Z"
   },
   {
    "duration": 35,
    "start_time": "2023-05-28T08:31:10.836Z"
   },
   {
    "duration": 15,
    "start_time": "2023-05-28T08:31:10.874Z"
   },
   {
    "duration": 35,
    "start_time": "2023-05-28T08:31:10.892Z"
   },
   {
    "duration": 24,
    "start_time": "2023-05-28T08:31:10.932Z"
   },
   {
    "duration": 51,
    "start_time": "2023-05-28T08:31:10.974Z"
   },
   {
    "duration": 91,
    "start_time": "2023-05-28T08:31:11.029Z"
   },
   {
    "duration": 166,
    "start_time": "2023-05-28T08:31:11.123Z"
   },
   {
    "duration": 14,
    "start_time": "2023-05-28T08:31:11.291Z"
   },
   {
    "duration": 186,
    "start_time": "2023-05-28T08:31:11.308Z"
   },
   {
    "duration": 53,
    "start_time": "2023-05-28T08:31:11.496Z"
   },
   {
    "duration": 37,
    "start_time": "2023-05-28T08:31:11.553Z"
   },
   {
    "duration": 30,
    "start_time": "2023-05-28T08:31:11.592Z"
   },
   {
    "duration": 11,
    "start_time": "2023-05-28T08:31:11.625Z"
   },
   {
    "duration": 70,
    "start_time": "2023-05-28T08:31:11.638Z"
   },
   {
    "duration": 319,
    "start_time": "2023-05-28T08:31:11.712Z"
   },
   {
    "duration": 389,
    "start_time": "2023-05-28T08:31:12.033Z"
   },
   {
    "duration": 31,
    "start_time": "2023-05-28T08:31:12.425Z"
   },
   {
    "duration": 27,
    "start_time": "2023-05-28T08:31:12.459Z"
   },
   {
    "duration": 94,
    "start_time": "2023-05-28T08:31:12.490Z"
   },
   {
    "duration": 115,
    "start_time": "2023-05-28T08:31:12.586Z"
   },
   {
    "duration": 43,
    "start_time": "2023-05-28T08:31:12.703Z"
   },
   {
    "duration": 59,
    "start_time": "2023-05-28T08:31:12.749Z"
   },
   {
    "duration": 73,
    "start_time": "2023-05-28T08:31:12.811Z"
   },
   {
    "duration": 306,
    "start_time": "2023-05-28T08:31:12.887Z"
   },
   {
    "duration": 92,
    "start_time": "2023-05-28T08:31:13.199Z"
   },
   {
    "duration": 11,
    "start_time": "2023-05-28T08:31:13.293Z"
   },
   {
    "duration": 38,
    "start_time": "2023-05-28T08:31:13.307Z"
   },
   {
    "duration": 45,
    "start_time": "2023-05-28T08:31:13.348Z"
   },
   {
    "duration": 285,
    "start_time": "2023-05-28T08:31:13.395Z"
   },
   {
    "duration": 12,
    "start_time": "2023-05-28T08:31:13.682Z"
   },
   {
    "duration": 686,
    "start_time": "2023-05-28T08:31:13.696Z"
   },
   {
    "duration": 119,
    "start_time": "2023-05-28T08:31:14.384Z"
   },
   {
    "duration": 87,
    "start_time": "2023-05-28T08:31:14.505Z"
   },
   {
    "duration": 14,
    "start_time": "2023-05-28T08:31:14.594Z"
   },
   {
    "duration": 77,
    "start_time": "2023-05-28T08:31:14.611Z"
   },
   {
    "duration": 173,
    "start_time": "2023-05-28T08:31:14.691Z"
   },
   {
    "duration": 196,
    "start_time": "2023-05-28T08:31:14.866Z"
   },
   {
    "duration": 180,
    "start_time": "2023-05-28T08:31:15.068Z"
   },
   {
    "duration": 668,
    "start_time": "2023-05-28T08:31:15.250Z"
   },
   {
    "duration": 1168,
    "start_time": "2023-05-28T17:56:03.481Z"
   },
   {
    "duration": 772,
    "start_time": "2023-05-28T17:56:04.651Z"
   },
   {
    "duration": 17,
    "start_time": "2023-05-28T17:56:05.425Z"
   },
   {
    "duration": 20,
    "start_time": "2023-05-28T17:56:05.443Z"
   },
   {
    "duration": 8,
    "start_time": "2023-05-28T17:56:05.465Z"
   },
   {
    "duration": 24,
    "start_time": "2023-05-28T17:56:05.475Z"
   },
   {
    "duration": 15,
    "start_time": "2023-05-28T17:56:05.500Z"
   },
   {
    "duration": 18,
    "start_time": "2023-05-28T17:56:05.516Z"
   },
   {
    "duration": 70,
    "start_time": "2023-05-28T17:56:05.536Z"
   },
   {
    "duration": 107,
    "start_time": "2023-05-28T17:56:05.609Z"
   },
   {
    "duration": 8,
    "start_time": "2023-05-28T17:56:05.717Z"
   },
   {
    "duration": 97,
    "start_time": "2023-05-28T17:56:05.727Z"
   },
   {
    "duration": 30,
    "start_time": "2023-05-28T17:56:05.825Z"
   },
   {
    "duration": 12,
    "start_time": "2023-05-28T17:56:05.857Z"
   },
   {
    "duration": 39,
    "start_time": "2023-05-28T17:56:05.871Z"
   },
   {
    "duration": 6,
    "start_time": "2023-05-28T17:56:05.912Z"
   },
   {
    "duration": 25,
    "start_time": "2023-05-28T17:56:05.920Z"
   },
   {
    "duration": 208,
    "start_time": "2023-05-28T17:56:05.946Z"
   },
   {
    "duration": 247,
    "start_time": "2023-05-28T17:56:06.156Z"
   },
   {
    "duration": 21,
    "start_time": "2023-05-28T17:56:06.406Z"
   },
   {
    "duration": 6,
    "start_time": "2023-05-28T17:56:06.429Z"
   },
   {
    "duration": 44,
    "start_time": "2023-05-28T17:56:06.436Z"
   },
   {
    "duration": 108,
    "start_time": "2023-05-28T17:56:06.481Z"
   },
   {
    "duration": 45,
    "start_time": "2023-05-28T17:56:06.591Z"
   },
   {
    "duration": 31,
    "start_time": "2023-05-28T17:56:06.638Z"
   },
   {
    "duration": 65,
    "start_time": "2023-05-28T17:56:06.670Z"
   },
   {
    "duration": 195,
    "start_time": "2023-05-28T17:56:06.737Z"
   },
   {
    "duration": 55,
    "start_time": "2023-05-28T17:56:06.935Z"
   },
   {
    "duration": 19,
    "start_time": "2023-05-28T17:56:06.991Z"
   },
   {
    "duration": 20,
    "start_time": "2023-05-28T17:56:07.012Z"
   },
   {
    "duration": 14,
    "start_time": "2023-05-28T17:56:07.034Z"
   },
   {
    "duration": 181,
    "start_time": "2023-05-28T17:56:07.049Z"
   },
   {
    "duration": 8,
    "start_time": "2023-05-28T17:56:07.232Z"
   },
   {
    "duration": 421,
    "start_time": "2023-05-28T17:56:07.241Z"
   },
   {
    "duration": 61,
    "start_time": "2023-05-28T17:56:07.663Z"
   },
   {
    "duration": 32,
    "start_time": "2023-05-28T17:56:07.726Z"
   },
   {
    "duration": 50,
    "start_time": "2023-05-28T17:56:07.760Z"
   },
   {
    "duration": 25,
    "start_time": "2023-05-28T17:56:07.811Z"
   },
   {
    "duration": 97,
    "start_time": "2023-05-28T17:56:07.837Z"
   },
   {
    "duration": 94,
    "start_time": "2023-05-28T17:56:07.936Z"
   },
   {
    "duration": 97,
    "start_time": "2023-05-28T17:56:08.031Z"
   },
   {
    "duration": 399,
    "start_time": "2023-05-28T17:56:08.130Z"
   },
   {
    "duration": 8,
    "start_time": "2023-05-28T19:07:54.549Z"
   },
   {
    "duration": 1127,
    "start_time": "2023-06-02T13:32:10.142Z"
   },
   {
    "duration": 631,
    "start_time": "2023-06-02T13:32:11.270Z"
   },
   {
    "duration": 35,
    "start_time": "2023-06-02T13:32:11.903Z"
   },
   {
    "duration": 19,
    "start_time": "2023-06-02T13:32:11.941Z"
   },
   {
    "duration": 20,
    "start_time": "2023-06-02T13:32:11.961Z"
   },
   {
    "duration": 27,
    "start_time": "2023-06-02T13:32:11.982Z"
   },
   {
    "duration": 40,
    "start_time": "2023-06-02T13:32:12.010Z"
   },
   {
    "duration": 16,
    "start_time": "2023-06-02T13:32:12.051Z"
   },
   {
    "duration": 70,
    "start_time": "2023-06-02T13:32:12.068Z"
   },
   {
    "duration": 106,
    "start_time": "2023-06-02T13:32:12.141Z"
   },
   {
    "duration": 8,
    "start_time": "2023-06-02T13:32:12.248Z"
   },
   {
    "duration": 97,
    "start_time": "2023-06-02T13:32:12.257Z"
   },
   {
    "duration": 26,
    "start_time": "2023-06-02T13:32:12.356Z"
   },
   {
    "duration": 12,
    "start_time": "2023-06-02T13:32:12.384Z"
   },
   {
    "duration": 68,
    "start_time": "2023-06-02T13:32:12.397Z"
   },
   {
    "duration": 7,
    "start_time": "2023-06-02T13:32:12.467Z"
   },
   {
    "duration": 38,
    "start_time": "2023-06-02T13:32:12.476Z"
   },
   {
    "duration": 172,
    "start_time": "2023-06-02T13:32:12.525Z"
   },
   {
    "duration": 262,
    "start_time": "2023-06-02T13:32:12.698Z"
   },
   {
    "duration": 19,
    "start_time": "2023-06-02T13:32:12.961Z"
   },
   {
    "duration": 24,
    "start_time": "2023-06-02T13:32:12.981Z"
   },
   {
    "duration": 45,
    "start_time": "2023-06-02T13:32:13.006Z"
   },
   {
    "duration": 98,
    "start_time": "2023-06-02T13:32:13.052Z"
   },
   {
    "duration": 31,
    "start_time": "2023-06-02T13:32:13.152Z"
   },
   {
    "duration": 53,
    "start_time": "2023-06-02T13:32:13.184Z"
   },
   {
    "duration": 39,
    "start_time": "2023-06-02T13:32:13.238Z"
   },
   {
    "duration": 178,
    "start_time": "2023-06-02T13:32:13.278Z"
   },
   {
    "duration": 57,
    "start_time": "2023-06-02T13:32:13.459Z"
   },
   {
    "duration": 16,
    "start_time": "2023-06-02T13:32:13.529Z"
   },
   {
    "duration": 23,
    "start_time": "2023-06-02T13:32:13.546Z"
   },
   {
    "duration": 13,
    "start_time": "2023-06-02T13:32:13.570Z"
   },
   {
    "duration": 193,
    "start_time": "2023-06-02T13:32:13.584Z"
   },
   {
    "duration": 8,
    "start_time": "2023-06-02T13:32:13.778Z"
   },
   {
    "duration": 412,
    "start_time": "2023-06-02T13:32:13.787Z"
   },
   {
    "duration": 57,
    "start_time": "2023-06-02T13:32:14.200Z"
   },
   {
    "duration": 75,
    "start_time": "2023-06-02T13:32:14.258Z"
   },
   {
    "duration": 11,
    "start_time": "2023-06-02T13:32:14.334Z"
   },
   {
    "duration": 20,
    "start_time": "2023-06-02T13:32:14.346Z"
   },
   {
    "duration": 40,
    "start_time": "2023-06-02T13:32:14.367Z"
   },
   {
    "duration": 125,
    "start_time": "2023-06-02T13:32:14.408Z"
   },
   {
    "duration": 95,
    "start_time": "2023-06-02T13:32:14.534Z"
   },
   {
    "duration": 97,
    "start_time": "2023-06-02T13:32:14.633Z"
   },
   {
    "duration": 416,
    "start_time": "2023-06-02T13:32:14.737Z"
   }
  ],
  "kernelspec": {
   "display_name": "Python 3 (ipykernel)",
   "language": "python",
   "name": "python3"
  },
  "language_info": {
   "codemirror_mode": {
    "name": "ipython",
    "version": 3
   },
   "file_extension": ".py",
   "mimetype": "text/x-python",
   "name": "python",
   "nbconvert_exporter": "python",
   "pygments_lexer": "ipython3",
   "version": "3.9.13"
  },
  "toc": {
   "base_numbering": 1,
   "nav_menu": {
    "height": "315px",
    "width": "473px"
   },
   "number_sections": true,
   "sideBar": true,
   "skip_h1_title": true,
   "title_cell": "Содержание",
   "title_sidebar": "Contents",
   "toc_cell": true,
   "toc_position": {},
   "toc_section_display": true,
   "toc_window_display": true
  }
 },
 "nbformat": 4,
 "nbformat_minor": 5
}
